{
 "cells": [
  {
   "cell_type": "code",
   "execution_count": 113,
   "metadata": {},
   "outputs": [],
   "source": [
    "import numpy as np\n",
    "import pandas as pd\n",
    "from matplotlib import pyplot as plt\n",
    "%matplotlib inline"
   ]
  },
  {
   "cell_type": "code",
   "execution_count": 114,
   "metadata": {},
   "outputs": [],
   "source": [
    "import tweepy\n",
    "from tweepy.streaming import StreamListener\n",
    "from tweepy import OAuthHandler\n",
    "from tweepy import Stream\n",
    "import twitter_credentials"
   ]
  },
  {
   "cell_type": "code",
   "execution_count": 115,
   "metadata": {},
   "outputs": [],
   "source": [
    "auth = tweepy.OAuthHandler(twitter_credentials.TWITTER_CONSUMER_KEY,twitter_credentials.TWITTER_CONSUMER_KEY_SECRET)\n",
    "auth.set_access_token(twitter_credentials.TWITTER_ACCESS_TOKEN,twitter_credentials.TWITTER_ACCESS_TOKEN_SECRET)\n",
    "\n",
    "api = tweepy.API(auth, wait_on_rate_limit=True, wait_on_rate_limit_notify=True)"
   ]
  },
  {
   "cell_type": "code",
   "execution_count": 112,
   "metadata": {},
   "outputs": [
    {
     "name": "stdout",
     "output_type": "stream",
     "text": [
      "0. {'created_at': 'Thu May 23 19:47:08 +0000 2019', 'id': 1131647770488659969, 'id_str': '1131647770488659969', 'text': 'Ryan Kavanaugh’s Media Firm Secures $100 Million Investment for Crypto Project | Via Cointelegraph #bitcoin… https://t.co/JKfiRxirGZ', 'source': '<a href=\"https://ifttt.com\" rel=\"nofollow\">IFTTT</a>', 'truncated': True, 'in_reply_to_status_id': None, 'in_reply_to_status_id_str': None, 'in_reply_to_user_id': None, 'in_reply_to_user_id_str': None, 'in_reply_to_screen_name': None, 'user': {'id': 930576551313371138, 'id_str': '930576551313371138', 'name': 'CoinStart - Starten met Bitcoin!', 'screen_name': 'CoinStartNL', 'location': 'Nederland', 'url': 'https://coinstart.nl', 'description': '#CoinstartNL is een cryptocurrency blog voor jou dagelijkse dosis #Bitcoin, #cryptocurrency & #Blockchain nieuws.', 'translator_type': 'none', 'protected': False, 'verified': False, 'followers_count': 224, 'friends_count': 301, 'listed_count': 3, 'favourites_count': 303, 'statuses_count': 3316, 'created_at': 'Tue Nov 14 23:21:53 +0000 2017', 'utc_offset': None, 'time_zone': None, 'geo_enabled': False, 'lang': None, 'contributors_enabled': False, 'is_translator': False, 'profile_background_color': 'F5F8FA', 'profile_background_image_url': '', 'profile_background_image_url_https': '', 'profile_background_tile': False, 'profile_link_color': '1DA1F2', 'profile_sidebar_border_color': 'C0DEED', 'profile_sidebar_fill_color': 'DDEEF6', 'profile_text_color': '333333', 'profile_use_background_image': True, 'profile_image_url': 'http://pbs.twimg.com/profile_images/989940265010987008/EfaWwNL-_normal.jpg', 'profile_image_url_https': 'https://pbs.twimg.com/profile_images/989940265010987008/EfaWwNL-_normal.jpg', 'profile_banner_url': 'https://pbs.twimg.com/profile_banners/930576551313371138/1543747856', 'default_profile': True, 'default_profile_image': False, 'following': None, 'follow_request_sent': None, 'notifications': None}, 'geo': None, 'coordinates': None, 'place': None, 'contributors': None, 'is_quote_status': False, 'extended_tweet': {'full_text': 'Ryan Kavanaugh’s Media Firm Secures $100 Million Investment for Crypto Project | Via Cointelegraph #bitcoin #cryptomunten #cryptocurrency #crypto #ripple #blockchain #invest #bitcoins #cryptocurrencies #coinstartnl https://t.co/WzNmPdfsMo', 'display_text_range': [0, 238], 'entities': {'hashtags': [{'text': 'bitcoin', 'indices': [99, 107]}, {'text': 'cryptomunten', 'indices': [108, 121]}, {'text': 'cryptocurrency', 'indices': [122, 137]}, {'text': 'crypto', 'indices': [138, 145]}, {'text': 'ripple', 'indices': [146, 153]}, {'text': 'blockchain', 'indices': [154, 165]}, {'text': 'invest', 'indices': [166, 173]}, {'text': 'bitcoins', 'indices': [174, 183]}, {'text': 'cryptocurrencies', 'indices': [184, 201]}, {'text': 'coinstartnl', 'indices': [202, 214]}], 'urls': [{'url': 'https://t.co/WzNmPdfsMo', 'expanded_url': 'http://bit.ly/2X9QnRX', 'display_url': 'bit.ly/2X9QnRX', 'indices': [215, 238]}], 'user_mentions': [], 'symbols': []}}, 'quote_count': 0, 'reply_count': 0, 'retweet_count': 0, 'favorite_count': 0, 'entities': {'hashtags': [{'text': 'bitcoin', 'indices': [99, 107]}], 'urls': [{'url': 'https://t.co/JKfiRxirGZ', 'expanded_url': 'https://twitter.com/i/web/status/1131647770488659969', 'display_url': 'twitter.com/i/web/status/1…', 'indices': [109, 132]}], 'user_mentions': [], 'symbols': []}, 'favorited': False, 'retweeted': False, 'possibly_sensitive': False, 'filter_level': 'low', 'lang': 'en', 'timestamp_ms': '1558640828140', '_id': ObjectId('5ce6f8c18ab3d6e095d855fd')}\n",
      "\n",
      "\n",
      "1. {'created_at': 'Thu May 23 19:47:08 +0000 2019', 'id': 1131647772015439873, 'id_str': '1131647772015439873', 'text': 'RT @Trex_token: Trextoken Airdrop 2 is now on! Get your 50,000 TXT (25 USD worth) now! Airdrop is limited with 20,000 participants. HURRY!…', 'source': '<a href=\"https://mobile.twitter.com\" rel=\"nofollow\">Twitter Web App</a>', 'truncated': False, 'in_reply_to_status_id': None, 'in_reply_to_status_id_str': None, 'in_reply_to_user_id': None, 'in_reply_to_user_id_str': None, 'in_reply_to_screen_name': None, 'user': {'id': 1075777736742862849, 'id_str': '1075777736742862849', 'name': 'Mrs khanam', 'screen_name': 'KhanamMrs', 'location': None, 'url': None, 'description': None, 'translator_type': 'none', 'protected': False, 'verified': False, 'followers_count': 7, 'friends_count': 78, 'listed_count': 1, 'favourites_count': 44, 'statuses_count': 81, 'created_at': 'Thu Dec 20 15:39:34 +0000 2018', 'utc_offset': None, 'time_zone': None, 'geo_enabled': False, 'lang': None, 'contributors_enabled': False, 'is_translator': False, 'profile_background_color': 'F5F8FA', 'profile_background_image_url': '', 'profile_background_image_url_https': '', 'profile_background_tile': False, 'profile_link_color': '1DA1F2', 'profile_sidebar_border_color': 'C0DEED', 'profile_sidebar_fill_color': 'DDEEF6', 'profile_text_color': '333333', 'profile_use_background_image': True, 'profile_image_url': 'http://pbs.twimg.com/profile_images/1075778879451582469/uup8ZLg8_normal.jpg', 'profile_image_url_https': 'https://pbs.twimg.com/profile_images/1075778879451582469/uup8ZLg8_normal.jpg', 'default_profile': True, 'default_profile_image': False, 'following': None, 'follow_request_sent': None, 'notifications': None}, 'geo': None, 'coordinates': None, 'place': None, 'contributors': None, 'retweeted_status': {'created_at': 'Mon May 20 22:33:01 +0000 2019', 'id': 1130602354003369984, 'id_str': '1130602354003369984', 'text': 'Trextoken Airdrop 2 is now on! Get your 50,000 TXT (25 USD worth) now! Airdrop is limited with 20,000 participants.… https://t.co/lqslTr1RIg', 'source': '<a href=\"http://twitter.com/download/iphone\" rel=\"nofollow\">Twitter for iPhone</a>', 'truncated': True, 'in_reply_to_status_id': None, 'in_reply_to_status_id_str': None, 'in_reply_to_user_id': None, 'in_reply_to_user_id_str': None, 'in_reply_to_screen_name': None, 'user': {'id': 1050424630652141568, 'id_str': '1050424630652141568', 'name': 'Trextoken', 'screen_name': 'Trex_token', 'location': None, 'url': 'https://www.trextokens.com/', 'description': 'Trex token is a block-chain technology token that is set to make transactions more easier for everyone around the globe, contribute your part.', 'translator_type': 'none', 'protected': False, 'verified': False, 'followers_count': 6936, 'friends_count': 2, 'listed_count': 6, 'favourites_count': 6, 'statuses_count': 169, 'created_at': 'Thu Oct 11 16:35:22 +0000 2018', 'utc_offset': None, 'time_zone': None, 'geo_enabled': False, 'lang': None, 'contributors_enabled': False, 'is_translator': False, 'profile_background_color': 'F5F8FA', 'profile_background_image_url': '', 'profile_background_image_url_https': '', 'profile_background_tile': False, 'profile_link_color': '1DA1F2', 'profile_sidebar_border_color': 'C0DEED', 'profile_sidebar_fill_color': 'DDEEF6', 'profile_text_color': '333333', 'profile_use_background_image': True, 'profile_image_url': 'http://pbs.twimg.com/profile_images/1050427116083470339/9tLYS9sR_normal.jpg', 'profile_image_url_https': 'https://pbs.twimg.com/profile_images/1050427116083470339/9tLYS9sR_normal.jpg', 'profile_banner_url': 'https://pbs.twimg.com/profile_banners/1050424630652141568/1539276416', 'default_profile': True, 'default_profile_image': False, 'following': None, 'follow_request_sent': None, 'notifications': None}, 'geo': None, 'coordinates': None, 'place': None, 'contributors': None, 'is_quote_status': False, 'extended_tweet': {'full_text': 'Trextoken Airdrop 2 is now on! Get your 50,000 TXT (25 USD worth) now! Airdrop is limited with 20,000 participants. HURRY!\\nhttps://t.co/CfDQ7CjFHy\\n#airdrop #eth #txt #ico #tokensale', 'display_text_range': [0, 181], 'entities': {'hashtags': [{'text': 'airdrop', 'indices': [147, 155]}, {'text': 'eth', 'indices': [156, 160]}, {'text': 'txt', 'indices': [161, 165]}, {'text': 'ico', 'indices': [166, 170]}, {'text': 'tokensale', 'indices': [171, 181]}], 'urls': [{'url': 'https://t.co/CfDQ7CjFHy', 'expanded_url': 'https://forms.gle/UQhT9h83WmfUmRKc7', 'display_url': 'forms.gle/UQhT9h83WmfUmR…', 'indices': [123, 146]}], 'user_mentions': [], 'symbols': []}}, 'quote_count': 2019, 'reply_count': 1487, 'retweet_count': 1496, 'favorite_count': 2364, 'entities': {'hashtags': [], 'urls': [{'url': 'https://t.co/lqslTr1RIg', 'expanded_url': 'https://twitter.com/i/web/status/1130602354003369984', 'display_url': 'twitter.com/i/web/status/1…', 'indices': [117, 140]}], 'user_mentions': [], 'symbols': []}, 'favorited': False, 'retweeted': False, 'possibly_sensitive': False, 'filter_level': 'low', 'lang': 'en'}, 'is_quote_status': False, 'quote_count': 0, 'reply_count': 0, 'retweet_count': 0, 'favorite_count': 0, 'entities': {'hashtags': [], 'urls': [], 'user_mentions': [{'screen_name': 'Trex_token', 'name': 'Trextoken', 'id': 1050424630652141568, 'id_str': '1050424630652141568', 'indices': [3, 14]}], 'symbols': []}, 'favorited': False, 'retweeted': False, 'filter_level': 'low', 'lang': 'en', 'timestamp_ms': '1558640828504', '_id': ObjectId('5ce6f8c18ab3d6e095d855fe')}\n",
      "\n",
      "\n",
      "2. {'created_at': 'Thu May 23 19:47:08 +0000 2019', 'id': 1131647772757598208, 'id_str': '1131647772757598208', 'text': '@CryptoHamsterIO https://t.co/vkJBDyOkng', 'display_text_range': [17, 40], 'source': '<a href=\"http://twitter.com\" rel=\"nofollow\">Twitter Web Client</a>', 'truncated': False, 'in_reply_to_status_id': 1131561182827909120, 'in_reply_to_status_id_str': '1131561182827909120', 'in_reply_to_user_id': 2966829375, 'in_reply_to_user_id_str': '2966829375', 'in_reply_to_screen_name': 'CryptoHamsterIO', 'user': {'id': 2897709709, 'id_str': '2897709709', 'name': 'D.I.Y Investing', 'screen_name': 'vajolleratzii', 'location': None, 'url': 'https://www.youtube.com/channel/UCvts9csZ03FZXsuMnOIQ4VQ', 'description': '#Cryptocurrency trader dedicated to teaching others how to obtain financial freedom', 'translator_type': 'none', 'protected': False, 'verified': False, 'followers_count': 842, 'friends_count': 230, 'listed_count': 13, 'favourites_count': 1032, 'statuses_count': 3098, 'created_at': 'Wed Nov 12 15:38:56 +0000 2014', 'utc_offset': None, 'time_zone': None, 'geo_enabled': False, 'lang': None, 'contributors_enabled': False, 'is_translator': False, 'profile_background_color': '000000', 'profile_background_image_url': 'http://abs.twimg.com/images/themes/theme1/bg.png', 'profile_background_image_url_https': 'https://abs.twimg.com/images/themes/theme1/bg.png', 'profile_background_tile': False, 'profile_link_color': '981CEB', 'profile_sidebar_border_color': '000000', 'profile_sidebar_fill_color': '000000', 'profile_text_color': '000000', 'profile_use_background_image': False, 'profile_image_url': 'http://pbs.twimg.com/profile_images/1043174380648292352/3E8hbbLC_normal.jpg', 'profile_image_url_https': 'https://pbs.twimg.com/profile_images/1043174380648292352/3E8hbbLC_normal.jpg', 'profile_banner_url': 'https://pbs.twimg.com/profile_banners/2897709709/1537558443', 'default_profile': False, 'default_profile_image': False, 'following': None, 'follow_request_sent': None, 'notifications': None}, 'geo': None, 'coordinates': None, 'place': None, 'contributors': None, 'quoted_status_id': 1130236045528686592, 'quoted_status_id_str': '1130236045528686592', 'quoted_status': {'created_at': 'Sun May 19 22:17:26 +0000 2019', 'id': 1130236045528686592, 'id_str': '1130236045528686592', 'text': 'Something to watch for is how closely $ETH follows $BTC and its accumulation cycle. I am expecting this pattern to… https://t.co/QO4B5MwjpY', 'display_text_range': [0, 140], 'source': '<a href=\"http://twitter.com\" rel=\"nofollow\">Twitter Web Client</a>', 'truncated': True, 'in_reply_to_status_id': None, 'in_reply_to_status_id_str': None, 'in_reply_to_user_id': None, 'in_reply_to_user_id_str': None, 'in_reply_to_screen_name': None, 'user': {'id': 2897709709, 'id_str': '2897709709', 'name': 'D.I.Y Investing', 'screen_name': 'vajolleratzii', 'location': None, 'url': 'https://www.youtube.com/channel/UCvts9csZ03FZXsuMnOIQ4VQ', 'description': '#Cryptocurrency trader dedicated to teaching others how to obtain financial freedom', 'translator_type': 'none', 'protected': False, 'verified': False, 'followers_count': 842, 'friends_count': 230, 'listed_count': 13, 'favourites_count': 1032, 'statuses_count': 3097, 'created_at': 'Wed Nov 12 15:38:56 +0000 2014', 'utc_offset': None, 'time_zone': None, 'geo_enabled': False, 'lang': None, 'contributors_enabled': False, 'is_translator': False, 'profile_background_color': '000000', 'profile_background_image_url': 'http://abs.twimg.com/images/themes/theme1/bg.png', 'profile_background_image_url_https': 'https://abs.twimg.com/images/themes/theme1/bg.png', 'profile_background_tile': False, 'profile_link_color': '981CEB', 'profile_sidebar_border_color': '000000', 'profile_sidebar_fill_color': '000000', 'profile_text_color': '000000', 'profile_use_background_image': False, 'profile_image_url': 'http://pbs.twimg.com/profile_images/1043174380648292352/3E8hbbLC_normal.jpg', 'profile_image_url_https': 'https://pbs.twimg.com/profile_images/1043174380648292352/3E8hbbLC_normal.jpg', 'profile_banner_url': 'https://pbs.twimg.com/profile_banners/2897709709/1537558443', 'default_profile': False, 'default_profile_image': False, 'following': None, 'follow_request_sent': None, 'notifications': None}, 'geo': None, 'coordinates': None, 'place': None, 'contributors': None, 'is_quote_status': False, 'extended_tweet': {'full_text': \"Something to watch for is how closely $ETH follows $BTC and its accumulation cycle. I am expecting this pattern to carry out into the next cycle and wouldn't be the least bit surprised to see #ETH worth close to $20k https://t.co/MoreKK9tCo\", 'display_text_range': [0, 216], 'entities': {'hashtags': [{'text': 'ETH', 'indices': [192, 196]}], 'urls': [], 'user_mentions': [], 'symbols': [{'text': 'ETH', 'indices': [38, 42]}, {'text': 'BTC', 'indices': [51, 55]}], 'media': [{'id': 1130235373223796738, 'id_str': '1130235373223796738', 'indices': [217, 240], 'media_url': 'http://pbs.twimg.com/media/D69nFW2V4AINDT6.jpg', 'media_url_https': 'https://pbs.twimg.com/media/D69nFW2V4AINDT6.jpg', 'url': 'https://t.co/MoreKK9tCo', 'display_url': 'pic.twitter.com/MoreKK9tCo', 'expanded_url': 'https://twitter.com/vajolleratzii/status/1130236045528686592/photo/1', 'type': 'photo', 'sizes': {'thumb': {'w': 150, 'h': 150, 'resize': 'crop'}, 'large': {'w': 1788, 'h': 900, 'resize': 'fit'}, 'small': {'w': 680, 'h': 342, 'resize': 'fit'}, 'medium': {'w': 1200, 'h': 604, 'resize': 'fit'}}}, {'id': 1130235417524035584, 'id_str': '1130235417524035584', 'indices': [217, 240], 'media_url': 'http://pbs.twimg.com/media/D69nH74V4AA7ATm.png', 'media_url_https': 'https://pbs.twimg.com/media/D69nH74V4AA7ATm.png', 'url': 'https://t.co/MoreKK9tCo', 'display_url': 'pic.twitter.com/MoreKK9tCo', 'expanded_url': 'https://twitter.com/vajolleratzii/status/1130236045528686592/photo/1', 'type': 'photo', 'sizes': {'small': {'w': 680, 'h': 357, 'resize': 'fit'}, 'large': {'w': 1834, 'h': 963, 'resize': 'fit'}, 'thumb': {'w': 150, 'h': 150, 'resize': 'crop'}, 'medium': {'w': 1200, 'h': 630, 'resize': 'fit'}}}]}, 'extended_entities': {'media': [{'id': 1130235373223796738, 'id_str': '1130235373223796738', 'indices': [217, 240], 'media_url': 'http://pbs.twimg.com/media/D69nFW2V4AINDT6.jpg', 'media_url_https': 'https://pbs.twimg.com/media/D69nFW2V4AINDT6.jpg', 'url': 'https://t.co/MoreKK9tCo', 'display_url': 'pic.twitter.com/MoreKK9tCo', 'expanded_url': 'https://twitter.com/vajolleratzii/status/1130236045528686592/photo/1', 'type': 'photo', 'sizes': {'thumb': {'w': 150, 'h': 150, 'resize': 'crop'}, 'large': {'w': 1788, 'h': 900, 'resize': 'fit'}, 'small': {'w': 680, 'h': 342, 'resize': 'fit'}, 'medium': {'w': 1200, 'h': 604, 'resize': 'fit'}}}, {'id': 1130235417524035584, 'id_str': '1130235417524035584', 'indices': [217, 240], 'media_url': 'http://pbs.twimg.com/media/D69nH74V4AA7ATm.png', 'media_url_https': 'https://pbs.twimg.com/media/D69nH74V4AA7ATm.png', 'url': 'https://t.co/MoreKK9tCo', 'display_url': 'pic.twitter.com/MoreKK9tCo', 'expanded_url': 'https://twitter.com/vajolleratzii/status/1130236045528686592/photo/1', 'type': 'photo', 'sizes': {'small': {'w': 680, 'h': 357, 'resize': 'fit'}, 'large': {'w': 1834, 'h': 963, 'resize': 'fit'}, 'thumb': {'w': 150, 'h': 150, 'resize': 'crop'}, 'medium': {'w': 1200, 'h': 630, 'resize': 'fit'}}}]}}, 'quote_count': 51, 'reply_count': 3, 'retweet_count': 4, 'favorite_count': 27, 'entities': {'hashtags': [], 'urls': [{'url': 'https://t.co/QO4B5MwjpY', 'expanded_url': 'https://twitter.com/i/web/status/1130236045528686592', 'display_url': 'twitter.com/i/web/status/1…', 'indices': [116, 139]}], 'user_mentions': [], 'symbols': [{'text': 'ETH', 'indices': [38, 42]}, {'text': 'BTC', 'indices': [51, 55]}]}, 'favorited': False, 'retweeted': False, 'possibly_sensitive': False, 'filter_level': 'low', 'lang': 'en'}, 'quoted_status_permalink': {'url': 'https://t.co/vkJBDyOkng', 'expanded': 'https://twitter.com/vajolleratzii/status/1130236045528686592', 'display': 'twitter.com/vajolleratzii/…'}, 'is_quote_status': True, 'quote_count': 0, 'reply_count': 0, 'retweet_count': 0, 'favorite_count': 0, 'entities': {'hashtags': [], 'urls': [{'url': 'https://t.co/vkJBDyOkng', 'expanded_url': 'https://twitter.com/vajolleratzii/status/1130236045528686592', 'display_url': 'twitter.com/vajolleratzii/…', 'indices': [17, 40]}], 'user_mentions': [{'screen_name': 'CryptoHamsterIO', 'name': 'CryptoHamster', 'id': 2966829375, 'id_str': '2966829375', 'indices': [0, 16]}], 'symbols': []}, 'favorited': False, 'retweeted': False, 'possibly_sensitive': False, 'filter_level': 'low', 'lang': 'und', 'timestamp_ms': '1558640828681', '_id': ObjectId('5ce6f8c18ab3d6e095d855ff')}\n",
      "\n",
      "\n",
      "3. {'created_at': 'Thu May 23 19:47:09 +0000 2019', 'id': 1131647776280973313, 'id_str': '1131647776280973313', 'text': 'RT @SydneyIfergan: Was very nice to talk to you, looking forward.. https://t.co/eZeTD2jmb6', 'source': '<a href=\"https://mobile.twitter.com\" rel=\"nofollow\">Twitter Web App</a>', 'truncated': False, 'in_reply_to_status_id': None, 'in_reply_to_status_id_str': None, 'in_reply_to_user_id': None, 'in_reply_to_user_id_str': None, 'in_reply_to_screen_name': None, 'user': {'id': 423245963, 'id_str': '423245963', 'name': 'Таня Стебенькова', 'screen_name': 'bjanka666', 'location': 'Львов', 'url': 'http://vkontakte.ru/id29718812#/id29718812', 'description': None, 'translator_type': 'none', 'protected': False, 'verified': False, 'followers_count': 270, 'friends_count': 585, 'listed_count': 1, 'favourites_count': 924, 'statuses_count': 707, 'created_at': 'Mon Nov 28 08:09:14 +0000 2011', 'utc_offset': None, 'time_zone': None, 'geo_enabled': False, 'lang': None, 'contributors_enabled': False, 'is_translator': False, 'profile_background_color': 'C0DEED', 'profile_background_image_url': 'http://abs.twimg.com/images/themes/theme1/bg.png', 'profile_background_image_url_https': 'https://abs.twimg.com/images/themes/theme1/bg.png', 'profile_background_tile': False, 'profile_link_color': '1DA1F2', 'profile_sidebar_border_color': 'C0DEED', 'profile_sidebar_fill_color': 'DDEEF6', 'profile_text_color': '333333', 'profile_use_background_image': True, 'profile_image_url': 'http://pbs.twimg.com/profile_images/1106125033502584836/VFJOii32_normal.jpg', 'profile_image_url_https': 'https://pbs.twimg.com/profile_images/1106125033502584836/VFJOii32_normal.jpg', 'profile_banner_url': 'https://pbs.twimg.com/profile_banners/423245963/1552555740', 'default_profile': True, 'default_profile_image': False, 'following': None, 'follow_request_sent': None, 'notifications': None}, 'geo': None, 'coordinates': None, 'place': None, 'contributors': None, 'retweeted_status': {'created_at': 'Thu May 23 19:27:07 +0000 2019', 'id': 1131642736111697925, 'id_str': '1131642736111697925', 'text': 'Was very nice to talk to you, looking forward.. https://t.co/eZeTD2jmb6', 'display_text_range': [0, 47], 'source': '<a href=\"http://twitter.com/download/iphone\" rel=\"nofollow\">Twitter for iPhone</a>', 'truncated': False, 'in_reply_to_status_id': None, 'in_reply_to_status_id_str': None, 'in_reply_to_user_id': None, 'in_reply_to_user_id_str': None, 'in_reply_to_screen_name': None, 'user': {'id': 37677867, 'id_str': '37677867', 'name': 'Sydney Ifergan', 'screen_name': 'SydneyIfergan', 'location': 'Cyprus', 'url': 'https://thecurrencyanalytics.com', 'description': \"Owner of http://TheCurrencyAnalytics.com (#TCAT Token) - Advisor for more than 50+ ICO's and Official Ambassador of #exrates #p2pb2b #localtrade #alterdice\", 'translator_type': 'none', 'protected': False, 'verified': False, 'followers_count': 4536, 'friends_count': 66, 'listed_count': 6, 'favourites_count': 247, 'statuses_count': 218, 'created_at': 'Mon May 04 15:06:40 +0000 2009', 'utc_offset': None, 'time_zone': None, 'geo_enabled': False, 'lang': None, 'contributors_enabled': False, 'is_translator': False, 'profile_background_color': 'C0DEED', 'profile_background_image_url': 'http://abs.twimg.com/images/themes/theme1/bg.png', 'profile_background_image_url_https': 'https://abs.twimg.com/images/themes/theme1/bg.png', 'profile_background_tile': True, 'profile_link_color': '0084B4', 'profile_sidebar_border_color': 'C0DEED', 'profile_sidebar_fill_color': 'DDEEF6', 'profile_text_color': '333333', 'profile_use_background_image': True, 'profile_image_url': 'http://pbs.twimg.com/profile_images/964112335207043073/nBXMg4Oj_normal.jpg', 'profile_image_url_https': 'https://pbs.twimg.com/profile_images/964112335207043073/nBXMg4Oj_normal.jpg', 'profile_banner_url': 'https://pbs.twimg.com/profile_banners/37677867/1550471241', 'default_profile': False, 'default_profile_image': False, 'following': None, 'follow_request_sent': None, 'notifications': None}, 'geo': None, 'coordinates': None, 'place': None, 'contributors': None, 'quoted_status_id': 1131585128583634944, 'quoted_status_id_str': '1131585128583634944', 'quoted_status': {'created_at': 'Thu May 23 15:38:13 +0000 2019', 'id': 1131585128583634944, 'id_str': '1131585128583634944', 'text': '#DigiByteMalta\\n\\nBig #DigiByte shout-out to Sydney @SydneyIfergan. Great chat at the Malta AI &amp; Blockchain Summit. M… https://t.co/jFot6S5J9W', 'display_text_range': [0, 140], 'source': '<a href=\"http://twitter.com/download/android\" rel=\"nofollow\">Twitter for Android</a>', 'truncated': True, 'in_reply_to_status_id': None, 'in_reply_to_status_id_str': None, 'in_reply_to_user_id': None, 'in_reply_to_user_id_str': None, 'in_reply_to_screen_name': None, 'user': {'id': 157761266, 'id_str': '157761266', 'name': 'Stephen P Kendal', 'screen_name': 'StephenPKendal', 'location': 'U.K.', 'url': 'https://steemit.com/@stephenkendal', 'description': 'Promoting Blockchain related: Communities, Businesses, Companies, Projects, DApps, Shows and Events - Advocate of Blockchain and Distributed Ledger Technology.', 'translator_type': 'none', 'protected': False, 'verified': False, 'followers_count': 7811, 'friends_count': 756, 'listed_count': 541, 'favourites_count': 53668, 'statuses_count': 105362, 'created_at': 'Sun Jun 20 20:14:25 +0000 2010', 'utc_offset': None, 'time_zone': None, 'geo_enabled': False, 'lang': None, 'contributors_enabled': False, 'is_translator': False, 'profile_background_color': 'C0DEED', 'profile_background_image_url': 'http://abs.twimg.com/images/themes/theme1/bg.png', 'profile_background_image_url_https': 'https://abs.twimg.com/images/themes/theme1/bg.png', 'profile_background_tile': True, 'profile_link_color': '0084B4', 'profile_sidebar_border_color': '000000', 'profile_sidebar_fill_color': 'DDEEF6', 'profile_text_color': '333333', 'profile_use_background_image': True, 'profile_image_url': 'http://pbs.twimg.com/profile_images/1127651248499458048/JotT1Ni-_normal.png', 'profile_image_url_https': 'https://pbs.twimg.com/profile_images/1127651248499458048/JotT1Ni-_normal.png', 'profile_banner_url': 'https://pbs.twimg.com/profile_banners/157761266/1558015660', 'default_profile': False, 'default_profile_image': False, 'following': None, 'follow_request_sent': None, 'notifications': None}, 'geo': None, 'coordinates': None, 'place': None, 'contributors': None, 'is_quote_status': False, 'extended_tweet': {'full_text': '#DigiByteMalta\\n\\nBig #DigiByte shout-out to Sydney @SydneyIfergan. Great chat at the Malta AI &amp; Blockchain Summit. Massive shout-out to our mutual friend  John @CryptoMentor99.\\n\\n#promoting #blockchain #DGB $DGB #DGBAT\\n\\n@DGBAT_Official @changeangel_io @DigiByteCoin @BlockchainMT https://t.co/RnLvIMoom5', 'display_text_range': [0, 281], 'entities': {'hashtags': [{'text': 'DigiByteMalta', 'indices': [0, 14]}, {'text': 'DigiByte', 'indices': [20, 29]}, {'text': 'promoting', 'indices': [181, 191]}, {'text': 'blockchain', 'indices': [192, 203]}, {'text': 'DGB', 'indices': [204, 208]}, {'text': 'DGBAT', 'indices': [214, 220]}], 'urls': [], 'user_mentions': [{'screen_name': 'SydneyIfergan', 'name': 'Sydney Ifergan', 'id': 37677867, 'id_str': '37677867', 'indices': [50, 64]}, {'screen_name': 'CryptoMentor99', 'name': 'Crypto Mentor99', 'id': 967898168921919488, 'id_str': '967898168921919488', 'indices': [163, 178]}, {'screen_name': 'DGBAT_Official', 'name': 'DigiByte Awareness Team 🦇', 'id': 988755567673053185, 'id_str': '988755567673053185', 'indices': [222, 237]}, {'screen_name': 'changeangel_io', 'name': 'changeangel', 'id': 1095391940613414914, 'id_str': '1095391940613414914', 'indices': [238, 253]}, {'screen_name': 'DigiByteCoin', 'name': 'DigiByte', 'id': 2266631022, 'id_str': '2266631022', 'indices': [254, 267]}, {'screen_name': 'BlockchainMT', 'name': 'Malta AI & Blockchain Summit', 'id': 986993196675883009, 'id_str': '986993196675883009', 'indices': [268, 281]}], 'symbols': [{'text': 'DGB', 'indices': [209, 213]}], 'media': [{'id': 1131585115069603841, 'id_str': '1131585115069603841', 'indices': [282, 305], 'media_url': 'http://pbs.twimg.com/media/D7QyqrDX4AEEEik.jpg', 'media_url_https': 'https://pbs.twimg.com/media/D7QyqrDX4AEEEik.jpg', 'url': 'https://t.co/RnLvIMoom5', 'display_url': 'pic.twitter.com/RnLvIMoom5', 'expanded_url': 'https://twitter.com/StephenPKendal/status/1131585128583634944/photo/1', 'type': 'photo', 'sizes': {'thumb': {'w': 150, 'h': 150, 'resize': 'crop'}, 'medium': {'w': 1200, 'h': 991, 'resize': 'fit'}, 'large': {'w': 1744, 'h': 1440, 'resize': 'fit'}, 'small': {'w': 680, 'h': 561, 'resize': 'fit'}}}]}, 'extended_entities': {'media': [{'id': 1131585115069603841, 'id_str': '1131585115069603841', 'indices': [282, 305], 'media_url': 'http://pbs.twimg.com/media/D7QyqrDX4AEEEik.jpg', 'media_url_https': 'https://pbs.twimg.com/media/D7QyqrDX4AEEEik.jpg', 'url': 'https://t.co/RnLvIMoom5', 'display_url': 'pic.twitter.com/RnLvIMoom5', 'expanded_url': 'https://twitter.com/StephenPKendal/status/1131585128583634944/photo/1', 'type': 'photo', 'sizes': {'thumb': {'w': 150, 'h': 150, 'resize': 'crop'}, 'medium': {'w': 1200, 'h': 991, 'resize': 'fit'}, 'large': {'w': 1744, 'h': 1440, 'resize': 'fit'}, 'small': {'w': 680, 'h': 561, 'resize': 'fit'}}}]}}, 'quote_count': 0, 'reply_count': 2, 'retweet_count': 9, 'favorite_count': 16, 'entities': {'hashtags': [{'text': 'DigiByteMalta', 'indices': [0, 14]}, {'text': 'DigiByte', 'indices': [20, 29]}], 'urls': [{'url': 'https://t.co/jFot6S5J9W', 'expanded_url': 'https://twitter.com/i/web/status/1131585128583634944', 'display_url': 'twitter.com/i/web/status/1…', 'indices': [121, 144]}], 'user_mentions': [{'screen_name': 'SydneyIfergan', 'name': 'Sydney Ifergan', 'id': 37677867, 'id_str': '37677867', 'indices': [50, 64]}], 'symbols': []}, 'favorited': False, 'retweeted': False, 'possibly_sensitive': False, 'filter_level': 'low', 'lang': 'en'}, 'quoted_status_permalink': {'url': 'https://t.co/eZeTD2jmb6', 'expanded': 'https://twitter.com/stephenpkendal/status/1131585128583634944', 'display': 'twitter.com/stephenpkendal…'}, 'is_quote_status': True, 'quote_count': 7, 'reply_count': 75, 'retweet_count': 87, 'favorite_count': 106, 'entities': {'hashtags': [], 'urls': [{'url': 'https://t.co/eZeTD2jmb6', 'expanded_url': 'https://twitter.com/stephenpkendal/status/1131585128583634944', 'display_url': 'twitter.com/stephenpkendal…', 'indices': [48, 71]}], 'user_mentions': [], 'symbols': []}, 'favorited': False, 'retweeted': False, 'possibly_sensitive': False, 'filter_level': 'low', 'lang': 'en'}, 'quoted_status_id': 1131585128583634944, 'quoted_status_id_str': '1131585128583634944', 'quoted_status': {'created_at': 'Thu May 23 15:38:13 +0000 2019', 'id': 1131585128583634944, 'id_str': '1131585128583634944', 'text': '#DigiByteMalta\\n\\nBig #DigiByte shout-out to Sydney @SydneyIfergan. Great chat at the Malta AI &amp; Blockchain Summit. M… https://t.co/jFot6S5J9W', 'display_text_range': [0, 140], 'source': '<a href=\"http://twitter.com/download/android\" rel=\"nofollow\">Twitter for Android</a>', 'truncated': True, 'in_reply_to_status_id': None, 'in_reply_to_status_id_str': None, 'in_reply_to_user_id': None, 'in_reply_to_user_id_str': None, 'in_reply_to_screen_name': None, 'user': {'id': 157761266, 'id_str': '157761266', 'name': 'Stephen P Kendal', 'screen_name': 'StephenPKendal', 'location': 'U.K.', 'url': 'https://steemit.com/@stephenkendal', 'description': 'Promoting Blockchain related: Communities, Businesses, Companies, Projects, DApps, Shows and Events - Advocate of Blockchain and Distributed Ledger Technology.', 'translator_type': 'none', 'protected': False, 'verified': False, 'followers_count': 7811, 'friends_count': 756, 'listed_count': 541, 'favourites_count': 53668, 'statuses_count': 105362, 'created_at': 'Sun Jun 20 20:14:25 +0000 2010', 'utc_offset': None, 'time_zone': None, 'geo_enabled': False, 'lang': None, 'contributors_enabled': False, 'is_translator': False, 'profile_background_color': 'C0DEED', 'profile_background_image_url': 'http://abs.twimg.com/images/themes/theme1/bg.png', 'profile_background_image_url_https': 'https://abs.twimg.com/images/themes/theme1/bg.png', 'profile_background_tile': True, 'profile_link_color': '0084B4', 'profile_sidebar_border_color': '000000', 'profile_sidebar_fill_color': 'DDEEF6', 'profile_text_color': '333333', 'profile_use_background_image': True, 'profile_image_url': 'http://pbs.twimg.com/profile_images/1127651248499458048/JotT1Ni-_normal.png', 'profile_image_url_https': 'https://pbs.twimg.com/profile_images/1127651248499458048/JotT1Ni-_normal.png', 'profile_banner_url': 'https://pbs.twimg.com/profile_banners/157761266/1558015660', 'default_profile': False, 'default_profile_image': False, 'following': None, 'follow_request_sent': None, 'notifications': None}, 'geo': None, 'coordinates': None, 'place': None, 'contributors': None, 'is_quote_status': False, 'extended_tweet': {'full_text': '#DigiByteMalta\\n\\nBig #DigiByte shout-out to Sydney @SydneyIfergan. Great chat at the Malta AI &amp; Blockchain Summit. Massive shout-out to our mutual friend  John @CryptoMentor99.\\n\\n#promoting #blockchain #DGB $DGB #DGBAT\\n\\n@DGBAT_Official @changeangel_io @DigiByteCoin @BlockchainMT https://t.co/RnLvIMoom5', 'display_text_range': [0, 281], 'entities': {'hashtags': [{'text': 'DigiByteMalta', 'indices': [0, 14]}, {'text': 'DigiByte', 'indices': [20, 29]}, {'text': 'promoting', 'indices': [181, 191]}, {'text': 'blockchain', 'indices': [192, 203]}, {'text': 'DGB', 'indices': [204, 208]}, {'text': 'DGBAT', 'indices': [214, 220]}], 'urls': [], 'user_mentions': [{'screen_name': 'SydneyIfergan', 'name': 'Sydney Ifergan', 'id': 37677867, 'id_str': '37677867', 'indices': [50, 64]}, {'screen_name': 'CryptoMentor99', 'name': 'Crypto Mentor99', 'id': 967898168921919488, 'id_str': '967898168921919488', 'indices': [163, 178]}, {'screen_name': 'DGBAT_Official', 'name': 'DigiByte Awareness Team 🦇', 'id': 988755567673053185, 'id_str': '988755567673053185', 'indices': [222, 237]}, {'screen_name': 'changeangel_io', 'name': 'changeangel', 'id': 1095391940613414914, 'id_str': '1095391940613414914', 'indices': [238, 253]}, {'screen_name': 'DigiByteCoin', 'name': 'DigiByte', 'id': 2266631022, 'id_str': '2266631022', 'indices': [254, 267]}, {'screen_name': 'BlockchainMT', 'name': 'Malta AI & Blockchain Summit', 'id': 986993196675883009, 'id_str': '986993196675883009', 'indices': [268, 281]}], 'symbols': [{'text': 'DGB', 'indices': [209, 213]}], 'media': [{'id': 1131585115069603841, 'id_str': '1131585115069603841', 'indices': [282, 305], 'media_url': 'http://pbs.twimg.com/media/D7QyqrDX4AEEEik.jpg', 'media_url_https': 'https://pbs.twimg.com/media/D7QyqrDX4AEEEik.jpg', 'url': 'https://t.co/RnLvIMoom5', 'display_url': 'pic.twitter.com/RnLvIMoom5', 'expanded_url': 'https://twitter.com/StephenPKendal/status/1131585128583634944/photo/1', 'type': 'photo', 'sizes': {'thumb': {'w': 150, 'h': 150, 'resize': 'crop'}, 'medium': {'w': 1200, 'h': 991, 'resize': 'fit'}, 'large': {'w': 1744, 'h': 1440, 'resize': 'fit'}, 'small': {'w': 680, 'h': 561, 'resize': 'fit'}}}]}, 'extended_entities': {'media': [{'id': 1131585115069603841, 'id_str': '1131585115069603841', 'indices': [282, 305], 'media_url': 'http://pbs.twimg.com/media/D7QyqrDX4AEEEik.jpg', 'media_url_https': 'https://pbs.twimg.com/media/D7QyqrDX4AEEEik.jpg', 'url': 'https://t.co/RnLvIMoom5', 'display_url': 'pic.twitter.com/RnLvIMoom5', 'expanded_url': 'https://twitter.com/StephenPKendal/status/1131585128583634944/photo/1', 'type': 'photo', 'sizes': {'thumb': {'w': 150, 'h': 150, 'resize': 'crop'}, 'medium': {'w': 1200, 'h': 991, 'resize': 'fit'}, 'large': {'w': 1744, 'h': 1440, 'resize': 'fit'}, 'small': {'w': 680, 'h': 561, 'resize': 'fit'}}}]}}, 'quote_count': 0, 'reply_count': 2, 'retweet_count': 9, 'favorite_count': 16, 'entities': {'hashtags': [{'text': 'DigiByteMalta', 'indices': [0, 14]}, {'text': 'DigiByte', 'indices': [20, 29]}], 'urls': [{'url': 'https://t.co/jFot6S5J9W', 'expanded_url': 'https://twitter.com/i/web/status/1131585128583634944', 'display_url': 'twitter.com/i/web/status/1…', 'indices': [121, 144]}], 'user_mentions': [{'screen_name': 'SydneyIfergan', 'name': 'Sydney Ifergan', 'id': 37677867, 'id_str': '37677867', 'indices': [50, 64]}], 'symbols': []}, 'favorited': False, 'retweeted': False, 'possibly_sensitive': False, 'filter_level': 'low', 'lang': 'en'}, 'quoted_status_permalink': {'url': 'https://t.co/eZeTD2jmb6', 'expanded': 'https://twitter.com/stephenpkendal/status/1131585128583634944', 'display': 'twitter.com/stephenpkendal…'}, 'is_quote_status': True, 'quote_count': 0, 'reply_count': 0, 'retweet_count': 0, 'favorite_count': 0, 'entities': {'hashtags': [], 'urls': [{'url': 'https://t.co/eZeTD2jmb6', 'expanded_url': 'https://twitter.com/stephenpkendal/status/1131585128583634944', 'display_url': 'twitter.com/stephenpkendal…', 'indices': [67, 90]}], 'user_mentions': [{'screen_name': 'SydneyIfergan', 'name': 'Sydney Ifergan', 'id': 37677867, 'id_str': '37677867', 'indices': [3, 17]}], 'symbols': []}, 'favorited': False, 'retweeted': False, 'possibly_sensitive': False, 'filter_level': 'low', 'lang': 'en', 'timestamp_ms': '1558640829521', '_id': ObjectId('5ce6f8c28ab3d6e095d85600')}\n",
      "\n",
      "\n",
      "4. {'created_at': 'Thu May 23 19:47:10 +0000 2019', 'id': 1131647778315231234, 'id_str': '1131647778315231234', 'text': '@tylerwinklevoss https://t.co/BpsoXPtfp8', 'display_text_range': [17, 40], 'source': '<a href=\"http://twitter.com/download/iphone\" rel=\"nofollow\">Twitter for iPhone</a>', 'truncated': False, 'in_reply_to_status_id': 1131603372342161410, 'in_reply_to_status_id_str': '1131603372342161410', 'in_reply_to_user_id': 24222556, 'in_reply_to_user_id_str': '24222556', 'in_reply_to_screen_name': 'tylerwinklevoss', 'user': {'id': 1072263496107286529, 'id_str': '1072263496107286529', 'name': '$Salty', 'screen_name': 'BSV_MetaNet', 'location': 'United States', 'url': 'http://webstersdictionary1828.com', 'description': 'Bitcoinˢᵛ Visionary #BSV @BSV_MetaNet', 'translator_type': 'none', 'protected': False, 'verified': False, 'followers_count': 558, 'friends_count': 317, 'listed_count': 5, 'favourites_count': 9907, 'statuses_count': 5121, 'created_at': 'Mon Dec 10 22:55:13 +0000 2018', 'utc_offset': None, 'time_zone': None, 'geo_enabled': False, 'lang': None, 'contributors_enabled': False, 'is_translator': False, 'profile_background_color': 'F5F8FA', 'profile_background_image_url': '', 'profile_background_image_url_https': '', 'profile_background_tile': False, 'profile_link_color': '1DA1F2', 'profile_sidebar_border_color': 'C0DEED', 'profile_sidebar_fill_color': 'DDEEF6', 'profile_text_color': '333333', 'profile_use_background_image': True, 'profile_image_url': 'http://pbs.twimg.com/profile_images/1102022739781709824/r9NN5BFb_normal.jpg', 'profile_image_url_https': 'https://pbs.twimg.com/profile_images/1102022739781709824/r9NN5BFb_normal.jpg', 'profile_banner_url': 'https://pbs.twimg.com/profile_banners/1072263496107286529/1554506773', 'default_profile': True, 'default_profile_image': False, 'following': None, 'follow_request_sent': None, 'notifications': None}, 'geo': None, 'coordinates': None, 'place': None, 'contributors': None, 'is_quote_status': False, 'quote_count': 0, 'reply_count': 0, 'retweet_count': 0, 'favorite_count': 0, 'entities': {'hashtags': [], 'urls': [{'url': 'https://t.co/BpsoXPtfp8', 'expanded_url': 'https://coingeek.com/dr-craig-wright-and-jimmy-nguyen-discuss-bitcoin-whitepaper-copyright/', 'display_url': 'coingeek.com/dr-craig-wrigh…', 'indices': [17, 40]}], 'user_mentions': [{'screen_name': 'tylerwinklevoss', 'name': 'Tyler Winklevoss', 'id': 24222556, 'id_str': '24222556', 'indices': [0, 16]}], 'symbols': []}, 'favorited': False, 'retweeted': False, 'possibly_sensitive': False, 'filter_level': 'low', 'lang': 'und', 'timestamp_ms': '1558640830006'}\n",
      "\n",
      "\n"
     ]
    },
    {
     "ename": "KeyboardInterrupt",
     "evalue": "",
     "output_type": "error",
     "traceback": [
      "\u001b[0;31m---------------------------------------------------------------------------\u001b[0m",
      "\u001b[0;31mWantReadError\u001b[0m                             Traceback (most recent call last)",
      "\u001b[0;32m/anaconda3/envs/metis/lib/python3.7/site-packages/urllib3/contrib/pyopenssl.py\u001b[0m in \u001b[0;36mrecv_into\u001b[0;34m(self, *args, **kwargs)\u001b[0m\n\u001b[1;32m    296\u001b[0m         \u001b[0;32mtry\u001b[0m\u001b[0;34m:\u001b[0m\u001b[0;34m\u001b[0m\u001b[0;34m\u001b[0m\u001b[0m\n\u001b[0;32m--> 297\u001b[0;31m             \u001b[0;32mreturn\u001b[0m \u001b[0mself\u001b[0m\u001b[0;34m.\u001b[0m\u001b[0mconnection\u001b[0m\u001b[0;34m.\u001b[0m\u001b[0mrecv_into\u001b[0m\u001b[0;34m(\u001b[0m\u001b[0;34m*\u001b[0m\u001b[0margs\u001b[0m\u001b[0;34m,\u001b[0m \u001b[0;34m**\u001b[0m\u001b[0mkwargs\u001b[0m\u001b[0;34m)\u001b[0m\u001b[0;34m\u001b[0m\u001b[0;34m\u001b[0m\u001b[0m\n\u001b[0m\u001b[1;32m    298\u001b[0m         \u001b[0;32mexcept\u001b[0m \u001b[0mOpenSSL\u001b[0m\u001b[0;34m.\u001b[0m\u001b[0mSSL\u001b[0m\u001b[0;34m.\u001b[0m\u001b[0mSysCallError\u001b[0m \u001b[0;32mas\u001b[0m \u001b[0me\u001b[0m\u001b[0;34m:\u001b[0m\u001b[0;34m\u001b[0m\u001b[0;34m\u001b[0m\u001b[0m\n",
      "\u001b[0;32m/anaconda3/envs/metis/lib/python3.7/site-packages/OpenSSL/SSL.py\u001b[0m in \u001b[0;36mrecv_into\u001b[0;34m(self, buffer, nbytes, flags)\u001b[0m\n\u001b[1;32m   1821\u001b[0m             \u001b[0mresult\u001b[0m \u001b[0;34m=\u001b[0m \u001b[0m_lib\u001b[0m\u001b[0;34m.\u001b[0m\u001b[0mSSL_read\u001b[0m\u001b[0;34m(\u001b[0m\u001b[0mself\u001b[0m\u001b[0;34m.\u001b[0m\u001b[0m_ssl\u001b[0m\u001b[0;34m,\u001b[0m \u001b[0mbuf\u001b[0m\u001b[0;34m,\u001b[0m \u001b[0mnbytes\u001b[0m\u001b[0;34m)\u001b[0m\u001b[0;34m\u001b[0m\u001b[0;34m\u001b[0m\u001b[0m\n\u001b[0;32m-> 1822\u001b[0;31m         \u001b[0mself\u001b[0m\u001b[0;34m.\u001b[0m\u001b[0m_raise_ssl_error\u001b[0m\u001b[0;34m(\u001b[0m\u001b[0mself\u001b[0m\u001b[0;34m.\u001b[0m\u001b[0m_ssl\u001b[0m\u001b[0;34m,\u001b[0m \u001b[0mresult\u001b[0m\u001b[0;34m)\u001b[0m\u001b[0;34m\u001b[0m\u001b[0;34m\u001b[0m\u001b[0m\n\u001b[0m\u001b[1;32m   1823\u001b[0m \u001b[0;34m\u001b[0m\u001b[0m\n",
      "\u001b[0;32m/anaconda3/envs/metis/lib/python3.7/site-packages/OpenSSL/SSL.py\u001b[0m in \u001b[0;36m_raise_ssl_error\u001b[0;34m(self, ssl, result)\u001b[0m\n\u001b[1;32m   1621\u001b[0m         \u001b[0;32mif\u001b[0m \u001b[0merror\u001b[0m \u001b[0;34m==\u001b[0m \u001b[0m_lib\u001b[0m\u001b[0;34m.\u001b[0m\u001b[0mSSL_ERROR_WANT_READ\u001b[0m\u001b[0;34m:\u001b[0m\u001b[0;34m\u001b[0m\u001b[0;34m\u001b[0m\u001b[0m\n\u001b[0;32m-> 1622\u001b[0;31m             \u001b[0;32mraise\u001b[0m \u001b[0mWantReadError\u001b[0m\u001b[0;34m(\u001b[0m\u001b[0;34m)\u001b[0m\u001b[0;34m\u001b[0m\u001b[0;34m\u001b[0m\u001b[0m\n\u001b[0m\u001b[1;32m   1623\u001b[0m         \u001b[0;32melif\u001b[0m \u001b[0merror\u001b[0m \u001b[0;34m==\u001b[0m \u001b[0m_lib\u001b[0m\u001b[0;34m.\u001b[0m\u001b[0mSSL_ERROR_WANT_WRITE\u001b[0m\u001b[0;34m:\u001b[0m\u001b[0;34m\u001b[0m\u001b[0;34m\u001b[0m\u001b[0m\n",
      "\u001b[0;31mWantReadError\u001b[0m: ",
      "\nDuring handling of the above exception, another exception occurred:\n",
      "\u001b[0;31mKeyboardInterrupt\u001b[0m                         Traceback (most recent call last)",
      "\u001b[0;32m<ipython-input-112-3ded221b4ffe>\u001b[0m in \u001b[0;36m<module>\u001b[0;34m\u001b[0m\n\u001b[1;32m     28\u001b[0m \u001b[0;34m\u001b[0m\u001b[0m\n\u001b[1;32m     29\u001b[0m \u001b[0mtwitter_stream\u001b[0m \u001b[0;34m=\u001b[0m \u001b[0mStream\u001b[0m\u001b[0;34m(\u001b[0m\u001b[0mauth\u001b[0m\u001b[0;34m,\u001b[0m \u001b[0mMyListener\u001b[0m\u001b[0;34m(\u001b[0m\u001b[0;34m)\u001b[0m\u001b[0;34m,\u001b[0m \u001b[0mtweet_mode\u001b[0m\u001b[0;34m=\u001b[0m\u001b[0;34m'extended'\u001b[0m\u001b[0;34m)\u001b[0m\u001b[0;34m\u001b[0m\u001b[0;34m\u001b[0m\u001b[0m\n\u001b[0;32m---> 30\u001b[0;31m \u001b[0mtwitter_stream\u001b[0m\u001b[0;34m.\u001b[0m\u001b[0mfilter\u001b[0m\u001b[0;34m(\u001b[0m\u001b[0mtrack\u001b[0m\u001b[0;34m=\u001b[0m\u001b[0;34m[\u001b[0m\u001b[0;34m'bitcoin'\u001b[0m\u001b[0;34m,\u001b[0m \u001b[0;34m'XBT'\u001b[0m\u001b[0;34m,\u001b[0m \u001b[0;34m'ethereum'\u001b[0m\u001b[0;34m,\u001b[0m \u001b[0;34m'ETH'\u001b[0m\u001b[0;34m,\u001b[0m \u001b[0;34m'blockchain'\u001b[0m\u001b[0;34m,\u001b[0m \u001b[0;34m'#HODL'\u001b[0m\u001b[0;34m,\u001b[0m \u001b[0;34m'#crypto'\u001b[0m \u001b[0;34m'OKEx'\u001b[0m\u001b[0;34m,\u001b[0m \u001b[0;34m'Binance'\u001b[0m\u001b[0;34m]\u001b[0m\u001b[0;34m)\u001b[0m\u001b[0;34m\u001b[0m\u001b[0;34m\u001b[0m\u001b[0m\n\u001b[0m",
      "\u001b[0;32m/anaconda3/envs/metis/lib/python3.7/site-packages/tweepy/streaming.py\u001b[0m in \u001b[0;36mfilter\u001b[0;34m(self, follow, track, is_async, locations, stall_warnings, languages, encoding, filter_level)\u001b[0m\n\u001b[1;32m    451\u001b[0m             \u001b[0mself\u001b[0m\u001b[0;34m.\u001b[0m\u001b[0mbody\u001b[0m\u001b[0;34m[\u001b[0m\u001b[0;34m'filter_level'\u001b[0m\u001b[0;34m]\u001b[0m \u001b[0;34m=\u001b[0m \u001b[0mfilter_level\u001b[0m\u001b[0;34m.\u001b[0m\u001b[0mencode\u001b[0m\u001b[0;34m(\u001b[0m\u001b[0mencoding\u001b[0m\u001b[0;34m)\u001b[0m\u001b[0;34m\u001b[0m\u001b[0;34m\u001b[0m\u001b[0m\n\u001b[1;32m    452\u001b[0m         \u001b[0mself\u001b[0m\u001b[0;34m.\u001b[0m\u001b[0msession\u001b[0m\u001b[0;34m.\u001b[0m\u001b[0mparams\u001b[0m \u001b[0;34m=\u001b[0m \u001b[0;34m{\u001b[0m\u001b[0;34m'delimited'\u001b[0m\u001b[0;34m:\u001b[0m \u001b[0;34m'length'\u001b[0m\u001b[0;34m}\u001b[0m\u001b[0;34m\u001b[0m\u001b[0;34m\u001b[0m\u001b[0m\n\u001b[0;32m--> 453\u001b[0;31m         \u001b[0mself\u001b[0m\u001b[0;34m.\u001b[0m\u001b[0m_start\u001b[0m\u001b[0;34m(\u001b[0m\u001b[0mis_async\u001b[0m\u001b[0;34m)\u001b[0m\u001b[0;34m\u001b[0m\u001b[0;34m\u001b[0m\u001b[0m\n\u001b[0m\u001b[1;32m    454\u001b[0m \u001b[0;34m\u001b[0m\u001b[0m\n\u001b[1;32m    455\u001b[0m     def sitestream(self, follow, stall_warnings=False,\n",
      "\u001b[0;32m/anaconda3/envs/metis/lib/python3.7/site-packages/tweepy/streaming.py\u001b[0m in \u001b[0;36m_start\u001b[0;34m(self, is_async)\u001b[0m\n\u001b[1;32m    366\u001b[0m             \u001b[0mself\u001b[0m\u001b[0;34m.\u001b[0m\u001b[0m_thread\u001b[0m\u001b[0;34m.\u001b[0m\u001b[0mstart\u001b[0m\u001b[0;34m(\u001b[0m\u001b[0;34m)\u001b[0m\u001b[0;34m\u001b[0m\u001b[0;34m\u001b[0m\u001b[0m\n\u001b[1;32m    367\u001b[0m         \u001b[0;32melse\u001b[0m\u001b[0;34m:\u001b[0m\u001b[0;34m\u001b[0m\u001b[0;34m\u001b[0m\u001b[0m\n\u001b[0;32m--> 368\u001b[0;31m             \u001b[0mself\u001b[0m\u001b[0;34m.\u001b[0m\u001b[0m_run\u001b[0m\u001b[0;34m(\u001b[0m\u001b[0;34m)\u001b[0m\u001b[0;34m\u001b[0m\u001b[0;34m\u001b[0m\u001b[0m\n\u001b[0m\u001b[1;32m    369\u001b[0m \u001b[0;34m\u001b[0m\u001b[0m\n\u001b[1;32m    370\u001b[0m     \u001b[0;32mdef\u001b[0m \u001b[0mon_closed\u001b[0m\u001b[0;34m(\u001b[0m\u001b[0mself\u001b[0m\u001b[0;34m,\u001b[0m \u001b[0mresp\u001b[0m\u001b[0;34m)\u001b[0m\u001b[0;34m:\u001b[0m\u001b[0;34m\u001b[0m\u001b[0;34m\u001b[0m\u001b[0m\n",
      "\u001b[0;32m/anaconda3/envs/metis/lib/python3.7/site-packages/tweepy/streaming.py\u001b[0m in \u001b[0;36m_run\u001b[0;34m(self)\u001b[0m\n\u001b[1;32m    267\u001b[0m                     \u001b[0mself\u001b[0m\u001b[0;34m.\u001b[0m\u001b[0msnooze_time\u001b[0m \u001b[0;34m=\u001b[0m \u001b[0mself\u001b[0m\u001b[0;34m.\u001b[0m\u001b[0msnooze_time_step\u001b[0m\u001b[0;34m\u001b[0m\u001b[0;34m\u001b[0m\u001b[0m\n\u001b[1;32m    268\u001b[0m                     \u001b[0mself\u001b[0m\u001b[0;34m.\u001b[0m\u001b[0mlistener\u001b[0m\u001b[0;34m.\u001b[0m\u001b[0mon_connect\u001b[0m\u001b[0;34m(\u001b[0m\u001b[0;34m)\u001b[0m\u001b[0;34m\u001b[0m\u001b[0;34m\u001b[0m\u001b[0m\n\u001b[0;32m--> 269\u001b[0;31m                     \u001b[0mself\u001b[0m\u001b[0;34m.\u001b[0m\u001b[0m_read_loop\u001b[0m\u001b[0;34m(\u001b[0m\u001b[0mresp\u001b[0m\u001b[0;34m)\u001b[0m\u001b[0;34m\u001b[0m\u001b[0;34m\u001b[0m\u001b[0m\n\u001b[0m\u001b[1;32m    270\u001b[0m             \u001b[0;32mexcept\u001b[0m \u001b[0;34m(\u001b[0m\u001b[0mTimeout\u001b[0m\u001b[0;34m,\u001b[0m \u001b[0mssl\u001b[0m\u001b[0;34m.\u001b[0m\u001b[0mSSLError\u001b[0m\u001b[0;34m)\u001b[0m \u001b[0;32mas\u001b[0m \u001b[0mexc\u001b[0m\u001b[0;34m:\u001b[0m\u001b[0;34m\u001b[0m\u001b[0;34m\u001b[0m\u001b[0m\n\u001b[1;32m    271\u001b[0m                 \u001b[0;31m# This is still necessary, as a SSLError can actually be\u001b[0m\u001b[0;34m\u001b[0m\u001b[0;34m\u001b[0m\u001b[0;34m\u001b[0m\u001b[0m\n",
      "\u001b[0;32m/anaconda3/envs/metis/lib/python3.7/site-packages/tweepy/streaming.py\u001b[0m in \u001b[0;36m_read_loop\u001b[0;34m(self, resp)\u001b[0m\n\u001b[1;32m    317\u001b[0m             \u001b[0mlength\u001b[0m \u001b[0;34m=\u001b[0m \u001b[0;36m0\u001b[0m\u001b[0;34m\u001b[0m\u001b[0;34m\u001b[0m\u001b[0m\n\u001b[1;32m    318\u001b[0m             \u001b[0;32mwhile\u001b[0m \u001b[0;32mnot\u001b[0m \u001b[0mresp\u001b[0m\u001b[0;34m.\u001b[0m\u001b[0mraw\u001b[0m\u001b[0;34m.\u001b[0m\u001b[0mclosed\u001b[0m\u001b[0;34m:\u001b[0m\u001b[0;34m\u001b[0m\u001b[0;34m\u001b[0m\u001b[0m\n\u001b[0;32m--> 319\u001b[0;31m                 \u001b[0mline\u001b[0m \u001b[0;34m=\u001b[0m \u001b[0mbuf\u001b[0m\u001b[0;34m.\u001b[0m\u001b[0mread_line\u001b[0m\u001b[0;34m(\u001b[0m\u001b[0;34m)\u001b[0m\u001b[0;34m\u001b[0m\u001b[0;34m\u001b[0m\u001b[0m\n\u001b[0m\u001b[1;32m    320\u001b[0m                 \u001b[0mstripped_line\u001b[0m \u001b[0;34m=\u001b[0m \u001b[0mline\u001b[0m\u001b[0;34m.\u001b[0m\u001b[0mstrip\u001b[0m\u001b[0;34m(\u001b[0m\u001b[0;34m)\u001b[0m \u001b[0;32mif\u001b[0m \u001b[0mline\u001b[0m \u001b[0;32melse\u001b[0m \u001b[0mline\u001b[0m \u001b[0;31m# line is sometimes None so we need to check here\u001b[0m\u001b[0;34m\u001b[0m\u001b[0;34m\u001b[0m\u001b[0m\n\u001b[1;32m    321\u001b[0m                 \u001b[0;32mif\u001b[0m \u001b[0;32mnot\u001b[0m \u001b[0mstripped_line\u001b[0m\u001b[0;34m:\u001b[0m\u001b[0;34m\u001b[0m\u001b[0;34m\u001b[0m\u001b[0m\n",
      "\u001b[0;32m/anaconda3/envs/metis/lib/python3.7/site-packages/tweepy/streaming.py\u001b[0m in \u001b[0;36mread_line\u001b[0;34m(self, sep)\u001b[0m\n\u001b[1;32m    179\u001b[0m             \u001b[0;32melse\u001b[0m\u001b[0;34m:\u001b[0m\u001b[0;34m\u001b[0m\u001b[0;34m\u001b[0m\u001b[0m\n\u001b[1;32m    180\u001b[0m                 \u001b[0mstart\u001b[0m \u001b[0;34m=\u001b[0m \u001b[0mlen\u001b[0m\u001b[0;34m(\u001b[0m\u001b[0mself\u001b[0m\u001b[0;34m.\u001b[0m\u001b[0m_buffer\u001b[0m\u001b[0;34m)\u001b[0m\u001b[0;34m\u001b[0m\u001b[0;34m\u001b[0m\u001b[0m\n\u001b[0;32m--> 181\u001b[0;31m             \u001b[0mself\u001b[0m\u001b[0;34m.\u001b[0m\u001b[0m_buffer\u001b[0m \u001b[0;34m+=\u001b[0m \u001b[0mself\u001b[0m\u001b[0;34m.\u001b[0m\u001b[0m_stream\u001b[0m\u001b[0;34m.\u001b[0m\u001b[0mread\u001b[0m\u001b[0;34m(\u001b[0m\u001b[0mself\u001b[0m\u001b[0;34m.\u001b[0m\u001b[0m_chunk_size\u001b[0m\u001b[0;34m)\u001b[0m\u001b[0;34m\u001b[0m\u001b[0;34m\u001b[0m\u001b[0m\n\u001b[0m\u001b[1;32m    182\u001b[0m         \u001b[0;32mreturn\u001b[0m \u001b[0msix\u001b[0m\u001b[0;34m.\u001b[0m\u001b[0mb\u001b[0m\u001b[0;34m(\u001b[0m\u001b[0;34m''\u001b[0m\u001b[0;34m)\u001b[0m\u001b[0;34m\u001b[0m\u001b[0;34m\u001b[0m\u001b[0m\n\u001b[1;32m    183\u001b[0m \u001b[0;34m\u001b[0m\u001b[0m\n",
      "\u001b[0;32m/anaconda3/envs/metis/lib/python3.7/site-packages/urllib3/response.py\u001b[0m in \u001b[0;36mread\u001b[0;34m(self, amt, decode_content, cache_content)\u001b[0m\n\u001b[1;32m    440\u001b[0m             \u001b[0;32melse\u001b[0m\u001b[0;34m:\u001b[0m\u001b[0;34m\u001b[0m\u001b[0;34m\u001b[0m\u001b[0m\n\u001b[1;32m    441\u001b[0m                 \u001b[0mcache_content\u001b[0m \u001b[0;34m=\u001b[0m \u001b[0;32mFalse\u001b[0m\u001b[0;34m\u001b[0m\u001b[0;34m\u001b[0m\u001b[0m\n\u001b[0;32m--> 442\u001b[0;31m                 \u001b[0mdata\u001b[0m \u001b[0;34m=\u001b[0m \u001b[0mself\u001b[0m\u001b[0;34m.\u001b[0m\u001b[0m_fp\u001b[0m\u001b[0;34m.\u001b[0m\u001b[0mread\u001b[0m\u001b[0;34m(\u001b[0m\u001b[0mamt\u001b[0m\u001b[0;34m)\u001b[0m\u001b[0;34m\u001b[0m\u001b[0;34m\u001b[0m\u001b[0m\n\u001b[0m\u001b[1;32m    443\u001b[0m                 \u001b[0;32mif\u001b[0m \u001b[0mamt\u001b[0m \u001b[0;34m!=\u001b[0m \u001b[0;36m0\u001b[0m \u001b[0;32mand\u001b[0m \u001b[0;32mnot\u001b[0m \u001b[0mdata\u001b[0m\u001b[0;34m:\u001b[0m  \u001b[0;31m# Platform-specific: Buggy versions of Python.\u001b[0m\u001b[0;34m\u001b[0m\u001b[0;34m\u001b[0m\u001b[0m\n\u001b[1;32m    444\u001b[0m                     \u001b[0;31m# Close the connection when no data is returned\u001b[0m\u001b[0;34m\u001b[0m\u001b[0;34m\u001b[0m\u001b[0;34m\u001b[0m\u001b[0m\n",
      "\u001b[0;32m/anaconda3/envs/metis/lib/python3.7/http/client.py\u001b[0m in \u001b[0;36mread\u001b[0;34m(self, amt)\u001b[0m\n\u001b[1;32m    445\u001b[0m             \u001b[0;31m# Amount is given, implement using readinto\u001b[0m\u001b[0;34m\u001b[0m\u001b[0;34m\u001b[0m\u001b[0;34m\u001b[0m\u001b[0m\n\u001b[1;32m    446\u001b[0m             \u001b[0mb\u001b[0m \u001b[0;34m=\u001b[0m \u001b[0mbytearray\u001b[0m\u001b[0;34m(\u001b[0m\u001b[0mamt\u001b[0m\u001b[0;34m)\u001b[0m\u001b[0;34m\u001b[0m\u001b[0;34m\u001b[0m\u001b[0m\n\u001b[0;32m--> 447\u001b[0;31m             \u001b[0mn\u001b[0m \u001b[0;34m=\u001b[0m \u001b[0mself\u001b[0m\u001b[0;34m.\u001b[0m\u001b[0mreadinto\u001b[0m\u001b[0;34m(\u001b[0m\u001b[0mb\u001b[0m\u001b[0;34m)\u001b[0m\u001b[0;34m\u001b[0m\u001b[0;34m\u001b[0m\u001b[0m\n\u001b[0m\u001b[1;32m    448\u001b[0m             \u001b[0;32mreturn\u001b[0m \u001b[0mmemoryview\u001b[0m\u001b[0;34m(\u001b[0m\u001b[0mb\u001b[0m\u001b[0;34m)\u001b[0m\u001b[0;34m[\u001b[0m\u001b[0;34m:\u001b[0m\u001b[0mn\u001b[0m\u001b[0;34m]\u001b[0m\u001b[0;34m.\u001b[0m\u001b[0mtobytes\u001b[0m\u001b[0;34m(\u001b[0m\u001b[0;34m)\u001b[0m\u001b[0;34m\u001b[0m\u001b[0;34m\u001b[0m\u001b[0m\n\u001b[1;32m    449\u001b[0m         \u001b[0;32melse\u001b[0m\u001b[0;34m:\u001b[0m\u001b[0;34m\u001b[0m\u001b[0;34m\u001b[0m\u001b[0m\n",
      "\u001b[0;32m/anaconda3/envs/metis/lib/python3.7/http/client.py\u001b[0m in \u001b[0;36mreadinto\u001b[0;34m(self, b)\u001b[0m\n\u001b[1;32m    479\u001b[0m \u001b[0;34m\u001b[0m\u001b[0m\n\u001b[1;32m    480\u001b[0m         \u001b[0;32mif\u001b[0m \u001b[0mself\u001b[0m\u001b[0;34m.\u001b[0m\u001b[0mchunked\u001b[0m\u001b[0;34m:\u001b[0m\u001b[0;34m\u001b[0m\u001b[0;34m\u001b[0m\u001b[0m\n\u001b[0;32m--> 481\u001b[0;31m             \u001b[0;32mreturn\u001b[0m \u001b[0mself\u001b[0m\u001b[0;34m.\u001b[0m\u001b[0m_readinto_chunked\u001b[0m\u001b[0;34m(\u001b[0m\u001b[0mb\u001b[0m\u001b[0;34m)\u001b[0m\u001b[0;34m\u001b[0m\u001b[0;34m\u001b[0m\u001b[0m\n\u001b[0m\u001b[1;32m    482\u001b[0m \u001b[0;34m\u001b[0m\u001b[0m\n\u001b[1;32m    483\u001b[0m         \u001b[0;32mif\u001b[0m \u001b[0mself\u001b[0m\u001b[0;34m.\u001b[0m\u001b[0mlength\u001b[0m \u001b[0;32mis\u001b[0m \u001b[0;32mnot\u001b[0m \u001b[0;32mNone\u001b[0m\u001b[0;34m:\u001b[0m\u001b[0;34m\u001b[0m\u001b[0;34m\u001b[0m\u001b[0m\n",
      "\u001b[0;32m/anaconda3/envs/metis/lib/python3.7/http/client.py\u001b[0m in \u001b[0;36m_readinto_chunked\u001b[0;34m(self, b)\u001b[0m\n\u001b[1;32m    574\u001b[0m         \u001b[0;32mtry\u001b[0m\u001b[0;34m:\u001b[0m\u001b[0;34m\u001b[0m\u001b[0;34m\u001b[0m\u001b[0m\n\u001b[1;32m    575\u001b[0m             \u001b[0;32mwhile\u001b[0m \u001b[0;32mTrue\u001b[0m\u001b[0;34m:\u001b[0m\u001b[0;34m\u001b[0m\u001b[0;34m\u001b[0m\u001b[0m\n\u001b[0;32m--> 576\u001b[0;31m                 \u001b[0mchunk_left\u001b[0m \u001b[0;34m=\u001b[0m \u001b[0mself\u001b[0m\u001b[0;34m.\u001b[0m\u001b[0m_get_chunk_left\u001b[0m\u001b[0;34m(\u001b[0m\u001b[0;34m)\u001b[0m\u001b[0;34m\u001b[0m\u001b[0;34m\u001b[0m\u001b[0m\n\u001b[0m\u001b[1;32m    577\u001b[0m                 \u001b[0;32mif\u001b[0m \u001b[0mchunk_left\u001b[0m \u001b[0;32mis\u001b[0m \u001b[0;32mNone\u001b[0m\u001b[0;34m:\u001b[0m\u001b[0;34m\u001b[0m\u001b[0;34m\u001b[0m\u001b[0m\n\u001b[1;32m    578\u001b[0m                     \u001b[0;32mreturn\u001b[0m \u001b[0mtotal_bytes\u001b[0m\u001b[0;34m\u001b[0m\u001b[0;34m\u001b[0m\u001b[0m\n",
      "\u001b[0;32m/anaconda3/envs/metis/lib/python3.7/http/client.py\u001b[0m in \u001b[0;36m_get_chunk_left\u001b[0;34m(self)\u001b[0m\n\u001b[1;32m    542\u001b[0m                 \u001b[0mself\u001b[0m\u001b[0;34m.\u001b[0m\u001b[0m_safe_read\u001b[0m\u001b[0;34m(\u001b[0m\u001b[0;36m2\u001b[0m\u001b[0;34m)\u001b[0m  \u001b[0;31m# toss the CRLF at the end of the chunk\u001b[0m\u001b[0;34m\u001b[0m\u001b[0;34m\u001b[0m\u001b[0m\n\u001b[1;32m    543\u001b[0m             \u001b[0;32mtry\u001b[0m\u001b[0;34m:\u001b[0m\u001b[0;34m\u001b[0m\u001b[0;34m\u001b[0m\u001b[0m\n\u001b[0;32m--> 544\u001b[0;31m                 \u001b[0mchunk_left\u001b[0m \u001b[0;34m=\u001b[0m \u001b[0mself\u001b[0m\u001b[0;34m.\u001b[0m\u001b[0m_read_next_chunk_size\u001b[0m\u001b[0;34m(\u001b[0m\u001b[0;34m)\u001b[0m\u001b[0;34m\u001b[0m\u001b[0;34m\u001b[0m\u001b[0m\n\u001b[0m\u001b[1;32m    545\u001b[0m             \u001b[0;32mexcept\u001b[0m \u001b[0mValueError\u001b[0m\u001b[0;34m:\u001b[0m\u001b[0;34m\u001b[0m\u001b[0;34m\u001b[0m\u001b[0m\n\u001b[1;32m    546\u001b[0m                 \u001b[0;32mraise\u001b[0m \u001b[0mIncompleteRead\u001b[0m\u001b[0;34m(\u001b[0m\u001b[0;34mb''\u001b[0m\u001b[0;34m)\u001b[0m\u001b[0;34m\u001b[0m\u001b[0;34m\u001b[0m\u001b[0m\n",
      "\u001b[0;32m/anaconda3/envs/metis/lib/python3.7/http/client.py\u001b[0m in \u001b[0;36m_read_next_chunk_size\u001b[0;34m(self)\u001b[0m\n\u001b[1;32m    502\u001b[0m     \u001b[0;32mdef\u001b[0m \u001b[0m_read_next_chunk_size\u001b[0m\u001b[0;34m(\u001b[0m\u001b[0mself\u001b[0m\u001b[0;34m)\u001b[0m\u001b[0;34m:\u001b[0m\u001b[0;34m\u001b[0m\u001b[0;34m\u001b[0m\u001b[0m\n\u001b[1;32m    503\u001b[0m         \u001b[0;31m# Read the next chunk size from the file\u001b[0m\u001b[0;34m\u001b[0m\u001b[0;34m\u001b[0m\u001b[0;34m\u001b[0m\u001b[0m\n\u001b[0;32m--> 504\u001b[0;31m         \u001b[0mline\u001b[0m \u001b[0;34m=\u001b[0m \u001b[0mself\u001b[0m\u001b[0;34m.\u001b[0m\u001b[0mfp\u001b[0m\u001b[0;34m.\u001b[0m\u001b[0mreadline\u001b[0m\u001b[0;34m(\u001b[0m\u001b[0m_MAXLINE\u001b[0m \u001b[0;34m+\u001b[0m \u001b[0;36m1\u001b[0m\u001b[0;34m)\u001b[0m\u001b[0;34m\u001b[0m\u001b[0;34m\u001b[0m\u001b[0m\n\u001b[0m\u001b[1;32m    505\u001b[0m         \u001b[0;32mif\u001b[0m \u001b[0mlen\u001b[0m\u001b[0;34m(\u001b[0m\u001b[0mline\u001b[0m\u001b[0;34m)\u001b[0m \u001b[0;34m>\u001b[0m \u001b[0m_MAXLINE\u001b[0m\u001b[0;34m:\u001b[0m\u001b[0;34m\u001b[0m\u001b[0;34m\u001b[0m\u001b[0m\n\u001b[1;32m    506\u001b[0m             \u001b[0;32mraise\u001b[0m \u001b[0mLineTooLong\u001b[0m\u001b[0;34m(\u001b[0m\u001b[0;34m\"chunk size\"\u001b[0m\u001b[0;34m)\u001b[0m\u001b[0;34m\u001b[0m\u001b[0;34m\u001b[0m\u001b[0m\n",
      "\u001b[0;32m/anaconda3/envs/metis/lib/python3.7/socket.py\u001b[0m in \u001b[0;36mreadinto\u001b[0;34m(self, b)\u001b[0m\n\u001b[1;32m    587\u001b[0m         \u001b[0;32mwhile\u001b[0m \u001b[0;32mTrue\u001b[0m\u001b[0;34m:\u001b[0m\u001b[0;34m\u001b[0m\u001b[0;34m\u001b[0m\u001b[0m\n\u001b[1;32m    588\u001b[0m             \u001b[0;32mtry\u001b[0m\u001b[0;34m:\u001b[0m\u001b[0;34m\u001b[0m\u001b[0;34m\u001b[0m\u001b[0m\n\u001b[0;32m--> 589\u001b[0;31m                 \u001b[0;32mreturn\u001b[0m \u001b[0mself\u001b[0m\u001b[0;34m.\u001b[0m\u001b[0m_sock\u001b[0m\u001b[0;34m.\u001b[0m\u001b[0mrecv_into\u001b[0m\u001b[0;34m(\u001b[0m\u001b[0mb\u001b[0m\u001b[0;34m)\u001b[0m\u001b[0;34m\u001b[0m\u001b[0;34m\u001b[0m\u001b[0m\n\u001b[0m\u001b[1;32m    590\u001b[0m             \u001b[0;32mexcept\u001b[0m \u001b[0mtimeout\u001b[0m\u001b[0;34m:\u001b[0m\u001b[0;34m\u001b[0m\u001b[0;34m\u001b[0m\u001b[0m\n\u001b[1;32m    591\u001b[0m                 \u001b[0mself\u001b[0m\u001b[0;34m.\u001b[0m\u001b[0m_timeout_occurred\u001b[0m \u001b[0;34m=\u001b[0m \u001b[0;32mTrue\u001b[0m\u001b[0;34m\u001b[0m\u001b[0;34m\u001b[0m\u001b[0m\n",
      "\u001b[0;32m/anaconda3/envs/metis/lib/python3.7/site-packages/urllib3/contrib/pyopenssl.py\u001b[0m in \u001b[0;36mrecv_into\u001b[0;34m(self, *args, **kwargs)\u001b[0m\n\u001b[1;32m    307\u001b[0m                 \u001b[0;32mraise\u001b[0m\u001b[0;34m\u001b[0m\u001b[0;34m\u001b[0m\u001b[0m\n\u001b[1;32m    308\u001b[0m         \u001b[0;32mexcept\u001b[0m \u001b[0mOpenSSL\u001b[0m\u001b[0;34m.\u001b[0m\u001b[0mSSL\u001b[0m\u001b[0;34m.\u001b[0m\u001b[0mWantReadError\u001b[0m\u001b[0;34m:\u001b[0m\u001b[0;34m\u001b[0m\u001b[0;34m\u001b[0m\u001b[0m\n\u001b[0;32m--> 309\u001b[0;31m             \u001b[0;32mif\u001b[0m \u001b[0;32mnot\u001b[0m \u001b[0mutil\u001b[0m\u001b[0;34m.\u001b[0m\u001b[0mwait_for_read\u001b[0m\u001b[0;34m(\u001b[0m\u001b[0mself\u001b[0m\u001b[0;34m.\u001b[0m\u001b[0msocket\u001b[0m\u001b[0;34m,\u001b[0m \u001b[0mself\u001b[0m\u001b[0;34m.\u001b[0m\u001b[0msocket\u001b[0m\u001b[0;34m.\u001b[0m\u001b[0mgettimeout\u001b[0m\u001b[0;34m(\u001b[0m\u001b[0;34m)\u001b[0m\u001b[0;34m)\u001b[0m\u001b[0;34m:\u001b[0m\u001b[0;34m\u001b[0m\u001b[0;34m\u001b[0m\u001b[0m\n\u001b[0m\u001b[1;32m    310\u001b[0m                 \u001b[0;32mraise\u001b[0m \u001b[0mtimeout\u001b[0m\u001b[0;34m(\u001b[0m\u001b[0;34m'The read operation timed out'\u001b[0m\u001b[0;34m)\u001b[0m\u001b[0;34m\u001b[0m\u001b[0;34m\u001b[0m\u001b[0m\n\u001b[1;32m    311\u001b[0m             \u001b[0;32melse\u001b[0m\u001b[0;34m:\u001b[0m\u001b[0;34m\u001b[0m\u001b[0;34m\u001b[0m\u001b[0m\n",
      "\u001b[0;32m/anaconda3/envs/metis/lib/python3.7/site-packages/urllib3/util/wait.py\u001b[0m in \u001b[0;36mwait_for_read\u001b[0;34m(sock, timeout)\u001b[0m\n\u001b[1;32m    141\u001b[0m     \u001b[0mReturns\u001b[0m \u001b[0;32mTrue\u001b[0m \u001b[0;32mif\u001b[0m \u001b[0mthe\u001b[0m \u001b[0msocket\u001b[0m \u001b[0;32mis\u001b[0m \u001b[0mreadable\u001b[0m\u001b[0;34m,\u001b[0m \u001b[0;32mor\u001b[0m \u001b[0;32mFalse\u001b[0m \u001b[0;32mif\u001b[0m \u001b[0mthe\u001b[0m \u001b[0mtimeout\u001b[0m \u001b[0mexpired\u001b[0m\u001b[0;34m.\u001b[0m\u001b[0;34m\u001b[0m\u001b[0;34m\u001b[0m\u001b[0m\n\u001b[1;32m    142\u001b[0m     \"\"\"\n\u001b[0;32m--> 143\u001b[0;31m     \u001b[0;32mreturn\u001b[0m \u001b[0mwait_for_socket\u001b[0m\u001b[0;34m(\u001b[0m\u001b[0msock\u001b[0m\u001b[0;34m,\u001b[0m \u001b[0mread\u001b[0m\u001b[0;34m=\u001b[0m\u001b[0;32mTrue\u001b[0m\u001b[0;34m,\u001b[0m \u001b[0mtimeout\u001b[0m\u001b[0;34m=\u001b[0m\u001b[0mtimeout\u001b[0m\u001b[0;34m)\u001b[0m\u001b[0;34m\u001b[0m\u001b[0;34m\u001b[0m\u001b[0m\n\u001b[0m\u001b[1;32m    144\u001b[0m \u001b[0;34m\u001b[0m\u001b[0m\n\u001b[1;32m    145\u001b[0m \u001b[0;34m\u001b[0m\u001b[0m\n",
      "\u001b[0;32m/anaconda3/envs/metis/lib/python3.7/site-packages/urllib3/util/wait.py\u001b[0m in \u001b[0;36mpoll_wait_for_socket\u001b[0;34m(sock, read, write, timeout)\u001b[0m\n\u001b[1;32m    102\u001b[0m         \u001b[0;32mreturn\u001b[0m \u001b[0mpoll_obj\u001b[0m\u001b[0;34m.\u001b[0m\u001b[0mpoll\u001b[0m\u001b[0;34m(\u001b[0m\u001b[0mt\u001b[0m\u001b[0;34m)\u001b[0m\u001b[0;34m\u001b[0m\u001b[0;34m\u001b[0m\u001b[0m\n\u001b[1;32m    103\u001b[0m \u001b[0;34m\u001b[0m\u001b[0m\n\u001b[0;32m--> 104\u001b[0;31m     \u001b[0;32mreturn\u001b[0m \u001b[0mbool\u001b[0m\u001b[0;34m(\u001b[0m\u001b[0m_retry_on_intr\u001b[0m\u001b[0;34m(\u001b[0m\u001b[0mdo_poll\u001b[0m\u001b[0;34m,\u001b[0m \u001b[0mtimeout\u001b[0m\u001b[0;34m)\u001b[0m\u001b[0;34m)\u001b[0m\u001b[0;34m\u001b[0m\u001b[0;34m\u001b[0m\u001b[0m\n\u001b[0m\u001b[1;32m    105\u001b[0m \u001b[0;34m\u001b[0m\u001b[0m\n\u001b[1;32m    106\u001b[0m \u001b[0;34m\u001b[0m\u001b[0m\n",
      "\u001b[0;32m/anaconda3/envs/metis/lib/python3.7/site-packages/urllib3/util/wait.py\u001b[0m in \u001b[0;36m_retry_on_intr\u001b[0;34m(fn, timeout)\u001b[0m\n\u001b[1;32m     40\u001b[0m     \u001b[0;31m# Modern Python, that retries syscalls by default\u001b[0m\u001b[0;34m\u001b[0m\u001b[0;34m\u001b[0m\u001b[0;34m\u001b[0m\u001b[0m\n\u001b[1;32m     41\u001b[0m     \u001b[0;32mdef\u001b[0m \u001b[0m_retry_on_intr\u001b[0m\u001b[0;34m(\u001b[0m\u001b[0mfn\u001b[0m\u001b[0;34m,\u001b[0m \u001b[0mtimeout\u001b[0m\u001b[0;34m)\u001b[0m\u001b[0;34m:\u001b[0m\u001b[0;34m\u001b[0m\u001b[0;34m\u001b[0m\u001b[0m\n\u001b[0;32m---> 42\u001b[0;31m         \u001b[0;32mreturn\u001b[0m \u001b[0mfn\u001b[0m\u001b[0;34m(\u001b[0m\u001b[0mtimeout\u001b[0m\u001b[0;34m)\u001b[0m\u001b[0;34m\u001b[0m\u001b[0;34m\u001b[0m\u001b[0m\n\u001b[0m\u001b[1;32m     43\u001b[0m \u001b[0;32melse\u001b[0m\u001b[0;34m:\u001b[0m\u001b[0;34m\u001b[0m\u001b[0;34m\u001b[0m\u001b[0m\n\u001b[1;32m     44\u001b[0m     \u001b[0;31m# Old and broken Pythons.\u001b[0m\u001b[0;34m\u001b[0m\u001b[0;34m\u001b[0m\u001b[0;34m\u001b[0m\u001b[0m\n",
      "\u001b[0;32m/anaconda3/envs/metis/lib/python3.7/site-packages/urllib3/util/wait.py\u001b[0m in \u001b[0;36mdo_poll\u001b[0;34m(t)\u001b[0m\n\u001b[1;32m    100\u001b[0m         \u001b[0;32mif\u001b[0m \u001b[0mt\u001b[0m \u001b[0;32mis\u001b[0m \u001b[0;32mnot\u001b[0m \u001b[0;32mNone\u001b[0m\u001b[0;34m:\u001b[0m\u001b[0;34m\u001b[0m\u001b[0;34m\u001b[0m\u001b[0m\n\u001b[1;32m    101\u001b[0m             \u001b[0mt\u001b[0m \u001b[0;34m*=\u001b[0m \u001b[0;36m1000\u001b[0m\u001b[0;34m\u001b[0m\u001b[0;34m\u001b[0m\u001b[0m\n\u001b[0;32m--> 102\u001b[0;31m         \u001b[0;32mreturn\u001b[0m \u001b[0mpoll_obj\u001b[0m\u001b[0;34m.\u001b[0m\u001b[0mpoll\u001b[0m\u001b[0;34m(\u001b[0m\u001b[0mt\u001b[0m\u001b[0;34m)\u001b[0m\u001b[0;34m\u001b[0m\u001b[0;34m\u001b[0m\u001b[0m\n\u001b[0m\u001b[1;32m    103\u001b[0m \u001b[0;34m\u001b[0m\u001b[0m\n\u001b[1;32m    104\u001b[0m     \u001b[0;32mreturn\u001b[0m \u001b[0mbool\u001b[0m\u001b[0;34m(\u001b[0m\u001b[0m_retry_on_intr\u001b[0m\u001b[0;34m(\u001b[0m\u001b[0mdo_poll\u001b[0m\u001b[0;34m,\u001b[0m \u001b[0mtimeout\u001b[0m\u001b[0;34m)\u001b[0m\u001b[0;34m)\u001b[0m\u001b[0;34m\u001b[0m\u001b[0;34m\u001b[0m\u001b[0m\n",
      "\u001b[0;31mKeyboardInterrupt\u001b[0m: "
     ]
    }
   ],
   "source": [
    "from tweepy import Stream\n",
    "from IPython import display\n",
    "from collections import deque\n",
    "import json\n",
    "\n",
    "class MyListener(StreamListener):\n",
    "    def __init__(self):\n",
    "        super().__init__()\n",
    "        self.list_of_tweets = deque([], maxlen=5)\n",
    "        \n",
    "    def on_data(self, data):\n",
    "        try:\n",
    "            tweet_text = json.loads(data)\n",
    "            self.list_of_tweets.append(tweet_text)\n",
    "            self.print_list_of_tweets()\n",
    "            db.Twitter_Data.insert_one(tweet_text)\n",
    "        except:\n",
    "            None\n",
    "          \n",
    "    def on_error(self, status):\n",
    "        print(status)\n",
    "\n",
    "    def print_list_of_tweets(self):\n",
    "        display.clear_output(wait=True)\n",
    "        for index, tweet_text in enumerate(self.list_of_tweets):\n",
    "            m='{}. {}\\n\\n'.format(index, tweet_text)\n",
    "            print(m)        \n",
    "            \n",
    "twitter_stream = Stream(auth, MyListener(), tweet_mode='extended')\n",
    "twitter_stream.filter(track=['bitcoin', 'XBT', 'ethereum', 'ETH', 'blockchain', '#HODL', '#crypto' 'OKEx', 'Binance'])"
   ]
  },
  {
   "cell_type": "code",
   "execution_count": 116,
   "metadata": {},
   "outputs": [],
   "source": [
    "from pymongo import MongoClient\n",
    "from pymongo import InsertOne, DeleteOne, ReplaceOne\n",
    "from pprint import pprint\n",
    "client = MongoClient()"
   ]
  },
  {
   "cell_type": "code",
   "execution_count": 117,
   "metadata": {},
   "outputs": [
    {
     "data": {
      "text/plain": [
       "['admin', 'books', 'config', 'cryptocurrency', 'local', 'outings']"
      ]
     },
     "execution_count": 117,
     "metadata": {},
     "output_type": "execute_result"
    }
   ],
   "source": [
    "client.list_database_names()"
   ]
  },
  {
   "cell_type": "code",
   "execution_count": 118,
   "metadata": {},
   "outputs": [],
   "source": [
    "db = client.cryptocurrency"
   ]
  },
  {
   "cell_type": "code",
   "execution_count": 119,
   "metadata": {},
   "outputs": [
    {
     "data": {
      "text/plain": [
       "['Twitter_Data']"
      ]
     },
     "execution_count": 119,
     "metadata": {},
     "output_type": "execute_result"
    }
   ],
   "source": [
    "db.list_collection_names()"
   ]
  },
  {
   "cell_type": "code",
   "execution_count": 120,
   "metadata": {},
   "outputs": [],
   "source": [
    "# db.create_collection('Twitter_Data')"
   ]
  },
  {
   "cell_type": "code",
   "execution_count": 121,
   "metadata": {},
   "outputs": [],
   "source": [
    "collection = db.Twitter_Data"
   ]
  },
  {
   "cell_type": "code",
   "execution_count": 122,
   "metadata": {},
   "outputs": [
    {
     "data": {
      "text/plain": [
       "96741"
      ]
     },
     "execution_count": 122,
     "metadata": {},
     "output_type": "execute_result"
    }
   ],
   "source": [
    "collection.count_documents({})"
   ]
  },
  {
   "cell_type": "code",
   "execution_count": 12,
   "metadata": {},
   "outputs": [
    {
     "name": "stdout",
     "output_type": "stream",
     "text": [
      "showing info https://raw.githubusercontent.com/nltk/nltk_data/gh-pages/index.xml\n"
     ]
    },
    {
     "ename": "SystemExit",
     "evalue": "0",
     "output_type": "error",
     "traceback": [
      "An exception has occurred, use %tb to see the full traceback.\n",
      "\u001b[0;31mSystemExit\u001b[0m\u001b[0;31m:\u001b[0m 0\n"
     ]
    },
    {
     "name": "stderr",
     "output_type": "stream",
     "text": [
      "/anaconda3/envs/metis/lib/python3.7/site-packages/IPython/core/interactiveshell.py:3304: UserWarning: To exit: use 'exit', 'quit', or Ctrl-D.\n",
      "  warn(\"To exit: use 'exit', 'quit', or Ctrl-D.\", stacklevel=1)\n"
     ]
    }
   ],
   "source": [
    "import nltk\n",
    "nltk.download()"
   ]
  },
  {
   "cell_type": "code",
   "execution_count": 123,
   "metadata": {
    "scrolled": true
   },
   "outputs": [
    {
     "data": {
      "text/html": [
       "<div>\n",
       "<style scoped>\n",
       "    .dataframe tbody tr th:only-of-type {\n",
       "        vertical-align: middle;\n",
       "    }\n",
       "\n",
       "    .dataframe tbody tr th {\n",
       "        vertical-align: top;\n",
       "    }\n",
       "\n",
       "    .dataframe thead th {\n",
       "        text-align: right;\n",
       "    }\n",
       "</style>\n",
       "<table border=\"1\" class=\"dataframe\">\n",
       "  <thead>\n",
       "    <tr style=\"text-align: right;\">\n",
       "      <th></th>\n",
       "      <th>_id</th>\n",
       "      <th>contributors</th>\n",
       "      <th>coordinates</th>\n",
       "      <th>created_at</th>\n",
       "      <th>display_text_range</th>\n",
       "      <th>entities</th>\n",
       "      <th>extended_entities</th>\n",
       "      <th>extended_tweet</th>\n",
       "      <th>favorite_count</th>\n",
       "      <th>favorited</th>\n",
       "      <th>...</th>\n",
       "      <th>reply_count</th>\n",
       "      <th>retweet_count</th>\n",
       "      <th>retweeted</th>\n",
       "      <th>retweeted_status</th>\n",
       "      <th>source</th>\n",
       "      <th>text</th>\n",
       "      <th>timestamp_ms</th>\n",
       "      <th>truncated</th>\n",
       "      <th>user</th>\n",
       "      <th>withheld_in_countries</th>\n",
       "    </tr>\n",
       "  </thead>\n",
       "  <tbody>\n",
       "    <tr>\n",
       "      <th>0</th>\n",
       "      <td>5cddd6d5fc4f0d82a2c73e41</td>\n",
       "      <td>NaN</td>\n",
       "      <td>None</td>\n",
       "      <td>Thu May 16 21:32:00 +0000 2019</td>\n",
       "      <td>NaN</td>\n",
       "      <td>{'hashtags': [{'text': 'NEO', 'indices': [23, ...</td>\n",
       "      <td>NaN</td>\n",
       "      <td>NaN</td>\n",
       "      <td>0.0</td>\n",
       "      <td>False</td>\n",
       "      <td>...</td>\n",
       "      <td>0.0</td>\n",
       "      <td>0.0</td>\n",
       "      <td>False</td>\n",
       "      <td>{'created_at': 'Wed May 15 12:00:24 +0000 2019...</td>\n",
       "      <td>&lt;a href=\"https://mobile.twitter.com\" rel=\"nofo...</td>\n",
       "      <td>RT @bitebtccom: 10,000 #NEO #Airdrop Follow, R...</td>\n",
       "      <td>1558042320100</td>\n",
       "      <td>False</td>\n",
       "      <td>{'id': 1057647375819259904, 'id_str': '1057647...</td>\n",
       "      <td>NaN</td>\n",
       "    </tr>\n",
       "    <tr>\n",
       "      <th>1</th>\n",
       "      <td>5cddd6d5fc4f0d82a2c73e42</td>\n",
       "      <td>NaN</td>\n",
       "      <td>None</td>\n",
       "      <td>Thu May 16 21:32:00 +0000 2019</td>\n",
       "      <td>NaN</td>\n",
       "      <td>{'hashtags': [], 'urls': [], 'user_mentions': ...</td>\n",
       "      <td>NaN</td>\n",
       "      <td>NaN</td>\n",
       "      <td>0.0</td>\n",
       "      <td>False</td>\n",
       "      <td>...</td>\n",
       "      <td>0.0</td>\n",
       "      <td>0.0</td>\n",
       "      <td>False</td>\n",
       "      <td>{'created_at': 'Thu May 16 17:29:08 +0000 2019...</td>\n",
       "      <td>&lt;a href=\"https://mobile.twitter.com\" rel=\"nofo...</td>\n",
       "      <td>RT @CNBCFuturesNow: Bitcoin boom or bust? @See...</td>\n",
       "      <td>1558042320141</td>\n",
       "      <td>False</td>\n",
       "      <td>{'id': 244627836, 'id_str': '244627836', 'name...</td>\n",
       "      <td>NaN</td>\n",
       "    </tr>\n",
       "    <tr>\n",
       "      <th>2</th>\n",
       "      <td>5cddd6d6fc4f0d82a2c73e43</td>\n",
       "      <td>NaN</td>\n",
       "      <td>None</td>\n",
       "      <td>Thu May 16 21:32:00 +0000 2019</td>\n",
       "      <td>NaN</td>\n",
       "      <td>{'hashtags': [], 'urls': [{'url': 'https://t.c...</td>\n",
       "      <td>NaN</td>\n",
       "      <td>{'full_text': 'RT https://t.co/JyAi9gRMbY Evol...</td>\n",
       "      <td>0.0</td>\n",
       "      <td>False</td>\n",
       "      <td>...</td>\n",
       "      <td>0.0</td>\n",
       "      <td>0.0</td>\n",
       "      <td>False</td>\n",
       "      <td>NaN</td>\n",
       "      <td>&lt;a href=\"https://buffer.com\" rel=\"nofollow\"&gt;Bu...</td>\n",
       "      <td>RT https://t.co/JyAi9gRMbY Evolution de la mar...</td>\n",
       "      <td>1558042320954</td>\n",
       "      <td>True</td>\n",
       "      <td>{'id': 896496284374372352, 'id_str': '89649628...</td>\n",
       "      <td>NaN</td>\n",
       "    </tr>\n",
       "    <tr>\n",
       "      <th>3</th>\n",
       "      <td>5cddd6d6fc4f0d82a2c73e44</td>\n",
       "      <td>NaN</td>\n",
       "      <td>None</td>\n",
       "      <td>Thu May 16 21:32:01 +0000 2019</td>\n",
       "      <td>NaN</td>\n",
       "      <td>{'hashtags': [], 'urls': [], 'user_mentions': ...</td>\n",
       "      <td>NaN</td>\n",
       "      <td>NaN</td>\n",
       "      <td>0.0</td>\n",
       "      <td>False</td>\n",
       "      <td>...</td>\n",
       "      <td>0.0</td>\n",
       "      <td>0.0</td>\n",
       "      <td>False</td>\n",
       "      <td>{'created_at': 'Thu May 16 20:52:33 +0000 2019...</td>\n",
       "      <td>&lt;a href=\"http://twitter.com/download/android\" ...</td>\n",
       "      <td>RT @CryptoMichNL: Isn't it great to have the v...</td>\n",
       "      <td>1558042321421</td>\n",
       "      <td>False</td>\n",
       "      <td>{'id': 950858491392126976, 'id_str': '95085849...</td>\n",
       "      <td>NaN</td>\n",
       "    </tr>\n",
       "    <tr>\n",
       "      <th>4</th>\n",
       "      <td>5cddd6d6fc4f0d82a2c73e45</td>\n",
       "      <td>NaN</td>\n",
       "      <td>None</td>\n",
       "      <td>Thu May 16 21:32:01 +0000 2019</td>\n",
       "      <td>NaN</td>\n",
       "      <td>{'hashtags': [], 'urls': [], 'user_mentions': ...</td>\n",
       "      <td>NaN</td>\n",
       "      <td>NaN</td>\n",
       "      <td>0.0</td>\n",
       "      <td>False</td>\n",
       "      <td>...</td>\n",
       "      <td>0.0</td>\n",
       "      <td>0.0</td>\n",
       "      <td>False</td>\n",
       "      <td>{'created_at': 'Mon May 13 14:20:52 +0000 2019...</td>\n",
       "      <td>&lt;a href=\"http://twitter.com\" rel=\"nofollow\"&gt;Tw...</td>\n",
       "      <td>RT @sharesleuth: We've posted a new story deta...</td>\n",
       "      <td>1558042321563</td>\n",
       "      <td>False</td>\n",
       "      <td>{'id': 842562191433723904, 'id_str': '84256219...</td>\n",
       "      <td>NaN</td>\n",
       "    </tr>\n",
       "  </tbody>\n",
       "</table>\n",
       "<p>5 rows × 39 columns</p>\n",
       "</div>"
      ],
      "text/plain": [
       "                        _id  contributors coordinates  \\\n",
       "0  5cddd6d5fc4f0d82a2c73e41           NaN        None   \n",
       "1  5cddd6d5fc4f0d82a2c73e42           NaN        None   \n",
       "2  5cddd6d6fc4f0d82a2c73e43           NaN        None   \n",
       "3  5cddd6d6fc4f0d82a2c73e44           NaN        None   \n",
       "4  5cddd6d6fc4f0d82a2c73e45           NaN        None   \n",
       "\n",
       "                       created_at display_text_range  \\\n",
       "0  Thu May 16 21:32:00 +0000 2019                NaN   \n",
       "1  Thu May 16 21:32:00 +0000 2019                NaN   \n",
       "2  Thu May 16 21:32:00 +0000 2019                NaN   \n",
       "3  Thu May 16 21:32:01 +0000 2019                NaN   \n",
       "4  Thu May 16 21:32:01 +0000 2019                NaN   \n",
       "\n",
       "                                            entities extended_entities  \\\n",
       "0  {'hashtags': [{'text': 'NEO', 'indices': [23, ...               NaN   \n",
       "1  {'hashtags': [], 'urls': [], 'user_mentions': ...               NaN   \n",
       "2  {'hashtags': [], 'urls': [{'url': 'https://t.c...               NaN   \n",
       "3  {'hashtags': [], 'urls': [], 'user_mentions': ...               NaN   \n",
       "4  {'hashtags': [], 'urls': [], 'user_mentions': ...               NaN   \n",
       "\n",
       "                                      extended_tweet  favorite_count  \\\n",
       "0                                                NaN             0.0   \n",
       "1                                                NaN             0.0   \n",
       "2  {'full_text': 'RT https://t.co/JyAi9gRMbY Evol...             0.0   \n",
       "3                                                NaN             0.0   \n",
       "4                                                NaN             0.0   \n",
       "\n",
       "  favorited  ... reply_count retweet_count  retweeted  \\\n",
       "0     False  ...         0.0           0.0      False   \n",
       "1     False  ...         0.0           0.0      False   \n",
       "2     False  ...         0.0           0.0      False   \n",
       "3     False  ...         0.0           0.0      False   \n",
       "4     False  ...         0.0           0.0      False   \n",
       "\n",
       "                                    retweeted_status  \\\n",
       "0  {'created_at': 'Wed May 15 12:00:24 +0000 2019...   \n",
       "1  {'created_at': 'Thu May 16 17:29:08 +0000 2019...   \n",
       "2                                                NaN   \n",
       "3  {'created_at': 'Thu May 16 20:52:33 +0000 2019...   \n",
       "4  {'created_at': 'Mon May 13 14:20:52 +0000 2019...   \n",
       "\n",
       "                                              source  \\\n",
       "0  <a href=\"https://mobile.twitter.com\" rel=\"nofo...   \n",
       "1  <a href=\"https://mobile.twitter.com\" rel=\"nofo...   \n",
       "2  <a href=\"https://buffer.com\" rel=\"nofollow\">Bu...   \n",
       "3  <a href=\"http://twitter.com/download/android\" ...   \n",
       "4  <a href=\"http://twitter.com\" rel=\"nofollow\">Tw...   \n",
       "\n",
       "                                                text   timestamp_ms  \\\n",
       "0  RT @bitebtccom: 10,000 #NEO #Airdrop Follow, R...  1558042320100   \n",
       "1  RT @CNBCFuturesNow: Bitcoin boom or bust? @See...  1558042320141   \n",
       "2  RT https://t.co/JyAi9gRMbY Evolution de la mar...  1558042320954   \n",
       "3  RT @CryptoMichNL: Isn't it great to have the v...  1558042321421   \n",
       "4  RT @sharesleuth: We've posted a new story deta...  1558042321563   \n",
       "\n",
       "   truncated                                               user  \\\n",
       "0      False  {'id': 1057647375819259904, 'id_str': '1057647...   \n",
       "1      False  {'id': 244627836, 'id_str': '244627836', 'name...   \n",
       "2       True  {'id': 896496284374372352, 'id_str': '89649628...   \n",
       "3      False  {'id': 950858491392126976, 'id_str': '95085849...   \n",
       "4      False  {'id': 842562191433723904, 'id_str': '84256219...   \n",
       "\n",
       "  withheld_in_countries  \n",
       "0                   NaN  \n",
       "1                   NaN  \n",
       "2                   NaN  \n",
       "3                   NaN  \n",
       "4                   NaN  \n",
       "\n",
       "[5 rows x 39 columns]"
      ]
     },
     "execution_count": 123,
     "metadata": {},
     "output_type": "execute_result"
    }
   ],
   "source": [
    "df_tweets = pd.DataFrame(list(collection.find({},)))\n",
    "df_tweets.head()"
   ]
  },
  {
   "cell_type": "code",
   "execution_count": 124,
   "metadata": {
    "scrolled": false
   },
   "outputs": [
    {
     "data": {
      "text/plain": [
       "Index(['_id', 'contributors', 'coordinates', 'created_at',\n",
       "       'display_text_range', 'entities', 'extended_entities', 'extended_tweet',\n",
       "       'favorite_count', 'favorited', 'filter_level', 'geo', 'id', 'id_str',\n",
       "       'in_reply_to_screen_name', 'in_reply_to_status_id',\n",
       "       'in_reply_to_status_id_str', 'in_reply_to_user_id',\n",
       "       'in_reply_to_user_id_str', 'is_quote_status', 'lang', 'limit', 'place',\n",
       "       'possibly_sensitive', 'quote_count', 'quoted_status',\n",
       "       'quoted_status_id', 'quoted_status_id_str', 'quoted_status_permalink',\n",
       "       'reply_count', 'retweet_count', 'retweeted', 'retweeted_status',\n",
       "       'source', 'text', 'timestamp_ms', 'truncated', 'user',\n",
       "       'withheld_in_countries'],\n",
       "      dtype='object')"
      ]
     },
     "execution_count": 124,
     "metadata": {},
     "output_type": "execute_result"
    }
   ],
   "source": [
    "df_tweets.columns"
   ]
  },
  {
   "cell_type": "code",
   "execution_count": 125,
   "metadata": {
    "scrolled": true
   },
   "outputs": [
    {
     "data": {
      "text/html": [
       "<div>\n",
       "<style scoped>\n",
       "    .dataframe tbody tr th:only-of-type {\n",
       "        vertical-align: middle;\n",
       "    }\n",
       "\n",
       "    .dataframe tbody tr th {\n",
       "        vertical-align: top;\n",
       "    }\n",
       "\n",
       "    .dataframe thead th {\n",
       "        text-align: right;\n",
       "    }\n",
       "</style>\n",
       "<table border=\"1\" class=\"dataframe\">\n",
       "  <thead>\n",
       "    <tr style=\"text-align: right;\">\n",
       "      <th></th>\n",
       "      <th>_id</th>\n",
       "      <th>lang</th>\n",
       "      <th>text</th>\n",
       "      <th>user</th>\n",
       "    </tr>\n",
       "  </thead>\n",
       "  <tbody>\n",
       "    <tr>\n",
       "      <th>0</th>\n",
       "      <td>5cddd6d5fc4f0d82a2c73e41</td>\n",
       "      <td>en</td>\n",
       "      <td>RT @bitebtccom: 10,000 #NEO #Airdrop Follow, R...</td>\n",
       "      <td>{'id': 1057647375819259904, 'id_str': '1057647...</td>\n",
       "    </tr>\n",
       "    <tr>\n",
       "      <th>1</th>\n",
       "      <td>5cddd6d5fc4f0d82a2c73e42</td>\n",
       "      <td>en</td>\n",
       "      <td>RT @CNBCFuturesNow: Bitcoin boom or bust? @See...</td>\n",
       "      <td>{'id': 244627836, 'id_str': '244627836', 'name...</td>\n",
       "    </tr>\n",
       "    <tr>\n",
       "      <th>2</th>\n",
       "      <td>5cddd6d6fc4f0d82a2c73e43</td>\n",
       "      <td>fr</td>\n",
       "      <td>RT https://t.co/JyAi9gRMbY Evolution de la mar...</td>\n",
       "      <td>{'id': 896496284374372352, 'id_str': '89649628...</td>\n",
       "    </tr>\n",
       "    <tr>\n",
       "      <th>3</th>\n",
       "      <td>5cddd6d6fc4f0d82a2c73e44</td>\n",
       "      <td>en</td>\n",
       "      <td>RT @CryptoMichNL: Isn't it great to have the v...</td>\n",
       "      <td>{'id': 950858491392126976, 'id_str': '95085849...</td>\n",
       "    </tr>\n",
       "    <tr>\n",
       "      <th>4</th>\n",
       "      <td>5cddd6d6fc4f0d82a2c73e45</td>\n",
       "      <td>en</td>\n",
       "      <td>RT @sharesleuth: We've posted a new story deta...</td>\n",
       "      <td>{'id': 842562191433723904, 'id_str': '84256219...</td>\n",
       "    </tr>\n",
       "  </tbody>\n",
       "</table>\n",
       "</div>"
      ],
      "text/plain": [
       "                        _id lang  \\\n",
       "0  5cddd6d5fc4f0d82a2c73e41   en   \n",
       "1  5cddd6d5fc4f0d82a2c73e42   en   \n",
       "2  5cddd6d6fc4f0d82a2c73e43   fr   \n",
       "3  5cddd6d6fc4f0d82a2c73e44   en   \n",
       "4  5cddd6d6fc4f0d82a2c73e45   en   \n",
       "\n",
       "                                                text  \\\n",
       "0  RT @bitebtccom: 10,000 #NEO #Airdrop Follow, R...   \n",
       "1  RT @CNBCFuturesNow: Bitcoin boom or bust? @See...   \n",
       "2  RT https://t.co/JyAi9gRMbY Evolution de la mar...   \n",
       "3  RT @CryptoMichNL: Isn't it great to have the v...   \n",
       "4  RT @sharesleuth: We've posted a new story deta...   \n",
       "\n",
       "                                                user  \n",
       "0  {'id': 1057647375819259904, 'id_str': '1057647...  \n",
       "1  {'id': 244627836, 'id_str': '244627836', 'name...  \n",
       "2  {'id': 896496284374372352, 'id_str': '89649628...  \n",
       "3  {'id': 950858491392126976, 'id_str': '95085849...  \n",
       "4  {'id': 842562191433723904, 'id_str': '84256219...  "
      ]
     },
     "execution_count": 125,
     "metadata": {},
     "output_type": "execute_result"
    }
   ],
   "source": [
    "df_text = df_tweets[['_id', 'lang', 'text', 'user']]\n",
    "df_text.text.astype(str)\n",
    "df_text.head()"
   ]
  },
  {
   "cell_type": "code",
   "execution_count": 126,
   "metadata": {},
   "outputs": [
    {
     "data": {
      "text/plain": [
       "pandas.core.frame.DataFrame"
      ]
     },
     "execution_count": 126,
     "metadata": {},
     "output_type": "execute_result"
    }
   ],
   "source": [
    "type(df_text)"
   ]
  },
  {
   "cell_type": "code",
   "execution_count": 127,
   "metadata": {
    "scrolled": true
   },
   "outputs": [
    {
     "name": "stdout",
     "output_type": "stream",
     "text": [
      "96740\n"
     ]
    },
    {
     "data": {
      "text/html": [
       "<div>\n",
       "<style scoped>\n",
       "    .dataframe tbody tr th:only-of-type {\n",
       "        vertical-align: middle;\n",
       "    }\n",
       "\n",
       "    .dataframe tbody tr th {\n",
       "        vertical-align: top;\n",
       "    }\n",
       "\n",
       "    .dataframe thead th {\n",
       "        text-align: right;\n",
       "    }\n",
       "</style>\n",
       "<table border=\"1\" class=\"dataframe\">\n",
       "  <thead>\n",
       "    <tr style=\"text-align: right;\">\n",
       "      <th></th>\n",
       "      <th>_id</th>\n",
       "      <th>lang</th>\n",
       "      <th>text</th>\n",
       "      <th>user</th>\n",
       "    </tr>\n",
       "  </thead>\n",
       "  <tbody>\n",
       "    <tr>\n",
       "      <th>0</th>\n",
       "      <td>5cddd6d5fc4f0d82a2c73e41</td>\n",
       "      <td>en</td>\n",
       "      <td>RT @bitebtccom: 10,000 #NEO #Airdrop Follow, R...</td>\n",
       "      <td>{'id': 1057647375819259904, 'id_str': '1057647...</td>\n",
       "    </tr>\n",
       "    <tr>\n",
       "      <th>1</th>\n",
       "      <td>5cddd6d5fc4f0d82a2c73e42</td>\n",
       "      <td>en</td>\n",
       "      <td>RT @CNBCFuturesNow: Bitcoin boom or bust? @See...</td>\n",
       "      <td>{'id': 244627836, 'id_str': '244627836', 'name...</td>\n",
       "    </tr>\n",
       "    <tr>\n",
       "      <th>2</th>\n",
       "      <td>5cddd6d6fc4f0d82a2c73e43</td>\n",
       "      <td>fr</td>\n",
       "      <td>RT https://t.co/JyAi9gRMbY Evolution de la mar...</td>\n",
       "      <td>{'id': 896496284374372352, 'id_str': '89649628...</td>\n",
       "    </tr>\n",
       "    <tr>\n",
       "      <th>3</th>\n",
       "      <td>5cddd6d6fc4f0d82a2c73e44</td>\n",
       "      <td>en</td>\n",
       "      <td>RT @CryptoMichNL: Isn't it great to have the v...</td>\n",
       "      <td>{'id': 950858491392126976, 'id_str': '95085849...</td>\n",
       "    </tr>\n",
       "    <tr>\n",
       "      <th>4</th>\n",
       "      <td>5cddd6d6fc4f0d82a2c73e45</td>\n",
       "      <td>en</td>\n",
       "      <td>RT @sharesleuth: We've posted a new story deta...</td>\n",
       "      <td>{'id': 842562191433723904, 'id_str': '84256219...</td>\n",
       "    </tr>\n",
       "  </tbody>\n",
       "</table>\n",
       "</div>"
      ],
      "text/plain": [
       "                        _id lang  \\\n",
       "0  5cddd6d5fc4f0d82a2c73e41   en   \n",
       "1  5cddd6d5fc4f0d82a2c73e42   en   \n",
       "2  5cddd6d6fc4f0d82a2c73e43   fr   \n",
       "3  5cddd6d6fc4f0d82a2c73e44   en   \n",
       "4  5cddd6d6fc4f0d82a2c73e45   en   \n",
       "\n",
       "                                                text  \\\n",
       "0  RT @bitebtccom: 10,000 #NEO #Airdrop Follow, R...   \n",
       "1  RT @CNBCFuturesNow: Bitcoin boom or bust? @See...   \n",
       "2  RT https://t.co/JyAi9gRMbY Evolution de la mar...   \n",
       "3  RT @CryptoMichNL: Isn't it great to have the v...   \n",
       "4  RT @sharesleuth: We've posted a new story deta...   \n",
       "\n",
       "                                                user  \n",
       "0  {'id': 1057647375819259904, 'id_str': '1057647...  \n",
       "1  {'id': 244627836, 'id_str': '244627836', 'name...  \n",
       "2  {'id': 896496284374372352, 'id_str': '89649628...  \n",
       "3  {'id': 950858491392126976, 'id_str': '95085849...  \n",
       "4  {'id': 842562191433723904, 'id_str': '84256219...  "
      ]
     },
     "execution_count": 127,
     "metadata": {},
     "output_type": "execute_result"
    }
   ],
   "source": [
    "cryptocurrency = df_text.dropna()\n",
    "print(len(cryptocurrency))\n",
    "cryptocurrency.head()"
   ]
  },
  {
   "cell_type": "code",
   "execution_count": 128,
   "metadata": {},
   "outputs": [
    {
     "name": "stderr",
     "output_type": "stream",
     "text": [
      "/anaconda3/envs/metis/lib/python3.7/site-packages/ipykernel_launcher.py:1: SettingWithCopyWarning: \n",
      "A value is trying to be set on a copy of a slice from a DataFrame.\n",
      "Try using .loc[row_indexer,col_indexer] = value instead\n",
      "\n",
      "See the caveats in the documentation: http://pandas.pydata.org/pandas-docs/stable/indexing.html#indexing-view-versus-copy\n",
      "  \"\"\"Entry point for launching an IPython kernel.\n"
     ]
    }
   ],
   "source": [
    "cryptocurrency['text'] = cryptocurrency.text.astype(str)"
   ]
  },
  {
   "cell_type": "code",
   "execution_count": 129,
   "metadata": {
    "scrolled": true
   },
   "outputs": [
    {
     "name": "stderr",
     "output_type": "stream",
     "text": [
      "/anaconda3/envs/metis/lib/python3.7/site-packages/ipykernel_launcher.py:4: SettingWithCopyWarning: \n",
      "A value is trying to be set on a copy of a slice from a DataFrame.\n",
      "Try using .loc[row_indexer,col_indexer] = value instead\n",
      "\n",
      "See the caveats in the documentation: http://pandas.pydata.org/pandas-docs/stable/indexing.html#indexing-view-versus-copy\n",
      "  after removing the cwd from sys.path.\n",
      "/anaconda3/envs/metis/lib/python3.7/site-packages/ipykernel_launcher.py:5: SettingWithCopyWarning: \n",
      "A value is trying to be set on a copy of a slice from a DataFrame.\n",
      "Try using .loc[row_indexer,col_indexer] = value instead\n",
      "\n",
      "See the caveats in the documentation: http://pandas.pydata.org/pandas-docs/stable/indexing.html#indexing-view-versus-copy\n",
      "  \"\"\"\n"
     ]
    }
   ],
   "source": [
    "import re \n",
    "import string\n",
    "\n",
    "cryptocurrency['text'] = cryptocurrency.text.apply(lambda x: re.sub('[%s]' % re.escape(string.punctuation), '', x.lower()))\n",
    "cryptocurrency['text'] = cryptocurrency.text.apply(lambda x: re.sub('w*\\d\\w*', '', x))"
   ]
  },
  {
   "cell_type": "code",
   "execution_count": 130,
   "metadata": {},
   "outputs": [
    {
     "data": {
      "text/plain": [
       "'rt cnbcfuturesnow bitcoin boom or bust seemacnbc brianstutland and scottnations debate whats next for the crypto after its crazy r…'"
      ]
     },
     "execution_count": 130,
     "metadata": {},
     "output_type": "execute_result"
    }
   ],
   "source": [
    "cryptocurrency.text[1]"
   ]
  },
  {
   "cell_type": "code",
   "execution_count": 131,
   "metadata": {},
   "outputs": [
    {
     "data": {
      "text/plain": [
       "96740"
      ]
     },
     "execution_count": 131,
     "metadata": {},
     "output_type": "execute_result"
    }
   ],
   "source": [
    "cryptocurrency = df_text.dropna()\n",
    "len(cryptocurrency)"
   ]
  },
  {
   "cell_type": "code",
   "execution_count": 132,
   "metadata": {},
   "outputs": [
    {
     "data": {
      "text/plain": [
       "47657"
      ]
     },
     "execution_count": 132,
     "metadata": {},
     "output_type": "execute_result"
    }
   ],
   "source": [
    "cryptocurrency = cryptocurrency.drop(cryptocurrency.index[cryptocurrency.text.str.startswith('RT')])\n",
    "len(cryptocurrency)"
   ]
  },
  {
   "cell_type": "code",
   "execution_count": 133,
   "metadata": {},
   "outputs": [
    {
     "data": {
      "text/plain": [
       "35648"
      ]
     },
     "execution_count": 133,
     "metadata": {},
     "output_type": "execute_result"
    }
   ],
   "source": [
    "cryptocurrency = cryptocurrency.drop(cryptocurrency.index[cryptocurrency.lang != 'en'])\n",
    "len(cryptocurrency)"
   ]
  },
  {
   "cell_type": "code",
   "execution_count": 134,
   "metadata": {},
   "outputs": [
    {
     "data": {
      "text/plain": [
       "32148"
      ]
     },
     "execution_count": 134,
     "metadata": {},
     "output_type": "execute_result"
    }
   ],
   "source": [
    "mask = cryptocurrency.user.apply(lambda x:x['followers_count'] <= 10)\n",
    "cryptocurrency = cryptocurrency.drop(cryptocurrency[mask].index)\n",
    "len(cryptocurrency)"
   ]
  },
  {
   "cell_type": "code",
   "execution_count": 135,
   "metadata": {},
   "outputs": [
    {
     "data": {
      "text/plain": [
       "['i',\n",
       " 'me',\n",
       " 'my',\n",
       " 'myself',\n",
       " 'we',\n",
       " 'our',\n",
       " 'ours',\n",
       " 'ourselves',\n",
       " 'you',\n",
       " \"you're\",\n",
       " \"you've\",\n",
       " \"you'll\",\n",
       " \"you'd\",\n",
       " 'your',\n",
       " 'yours',\n",
       " 'yourself',\n",
       " 'yourselves',\n",
       " 'he',\n",
       " 'him',\n",
       " 'his',\n",
       " 'himself',\n",
       " 'she',\n",
       " \"she's\",\n",
       " 'her',\n",
       " 'hers',\n",
       " 'herself',\n",
       " 'it',\n",
       " \"it's\",\n",
       " 'its',\n",
       " 'itself',\n",
       " 'they',\n",
       " 'them',\n",
       " 'their',\n",
       " 'theirs',\n",
       " 'themselves',\n",
       " 'what',\n",
       " 'which',\n",
       " 'who',\n",
       " 'whom',\n",
       " 'this',\n",
       " 'that',\n",
       " \"that'll\",\n",
       " 'these',\n",
       " 'those',\n",
       " 'am',\n",
       " 'is',\n",
       " 'are',\n",
       " 'was',\n",
       " 'were',\n",
       " 'be',\n",
       " 'been',\n",
       " 'being',\n",
       " 'have',\n",
       " 'has',\n",
       " 'had',\n",
       " 'having',\n",
       " 'do',\n",
       " 'does',\n",
       " 'did',\n",
       " 'doing',\n",
       " 'a',\n",
       " 'an',\n",
       " 'the',\n",
       " 'and',\n",
       " 'but',\n",
       " 'if',\n",
       " 'or',\n",
       " 'because',\n",
       " 'as',\n",
       " 'until',\n",
       " 'while',\n",
       " 'of',\n",
       " 'at',\n",
       " 'by',\n",
       " 'for',\n",
       " 'with',\n",
       " 'about',\n",
       " 'against',\n",
       " 'between',\n",
       " 'into',\n",
       " 'through',\n",
       " 'during',\n",
       " 'before',\n",
       " 'after',\n",
       " 'above',\n",
       " 'below',\n",
       " 'to',\n",
       " 'from',\n",
       " 'up',\n",
       " 'down',\n",
       " 'in',\n",
       " 'out',\n",
       " 'on',\n",
       " 'off',\n",
       " 'over',\n",
       " 'under',\n",
       " 'again',\n",
       " 'further',\n",
       " 'then',\n",
       " 'once',\n",
       " 'here',\n",
       " 'there',\n",
       " 'when',\n",
       " 'where',\n",
       " 'why',\n",
       " 'how',\n",
       " 'all',\n",
       " 'any',\n",
       " 'both',\n",
       " 'each',\n",
       " 'few',\n",
       " 'more',\n",
       " 'most',\n",
       " 'other',\n",
       " 'some',\n",
       " 'such',\n",
       " 'no',\n",
       " 'nor',\n",
       " 'not',\n",
       " 'only',\n",
       " 'own',\n",
       " 'same',\n",
       " 'so',\n",
       " 'than',\n",
       " 'too',\n",
       " 'very',\n",
       " 's',\n",
       " 't',\n",
       " 'can',\n",
       " 'will',\n",
       " 'just',\n",
       " 'don',\n",
       " \"don't\",\n",
       " 'should',\n",
       " \"should've\",\n",
       " 'now',\n",
       " 'd',\n",
       " 'll',\n",
       " 'm',\n",
       " 'o',\n",
       " 're',\n",
       " 've',\n",
       " 'y',\n",
       " 'ain',\n",
       " 'aren',\n",
       " \"aren't\",\n",
       " 'couldn',\n",
       " \"couldn't\",\n",
       " 'didn',\n",
       " \"didn't\",\n",
       " 'doesn',\n",
       " \"doesn't\",\n",
       " 'hadn',\n",
       " \"hadn't\",\n",
       " 'hasn',\n",
       " \"hasn't\",\n",
       " 'haven',\n",
       " \"haven't\",\n",
       " 'isn',\n",
       " \"isn't\",\n",
       " 'ma',\n",
       " 'mightn',\n",
       " \"mightn't\",\n",
       " 'mustn',\n",
       " \"mustn't\",\n",
       " 'needn',\n",
       " \"needn't\",\n",
       " 'shan',\n",
       " \"shan't\",\n",
       " 'shouldn',\n",
       " \"shouldn't\",\n",
       " 'wasn',\n",
       " \"wasn't\",\n",
       " 'weren',\n",
       " \"weren't\",\n",
       " 'won',\n",
       " \"won't\",\n",
       " 'wouldn',\n",
       " \"wouldn't\"]"
      ]
     },
     "execution_count": 135,
     "metadata": {},
     "output_type": "execute_result"
    }
   ],
   "source": [
    "from nltk.corpus import stopwords\n",
    "list(stopwords.words('english'))"
   ]
  },
  {
   "cell_type": "code",
   "execution_count": 136,
   "metadata": {},
   "outputs": [],
   "source": [
    "list_tweets = list(cryptocurrency['text'])\n"
   ]
  },
  {
   "cell_type": "code",
   "execution_count": 137,
   "metadata": {},
   "outputs": [],
   "source": [
    "from sklearn.feature_extraction.text import CountVectorizer \n",
    "from sklearn.decomposition import TruncatedSVD\n",
    "from sklearn.decomposition import NMF\n",
    "from sklearn.metrics.pairwise import cosine_similarity"
   ]
  },
  {
   "cell_type": "code",
   "execution_count": 138,
   "metadata": {},
   "outputs": [
    {
     "name": "stderr",
     "output_type": "stream",
     "text": [
      "/anaconda3/envs/metis/lib/python3.7/site-packages/sklearn/feature_extraction/text.py:301: UserWarning: Your stop_words may be inconsistent with your preprocessing. Tokenizing the stop words generated tokens ['binance', 'cryptookex'] not in stop_words.\n",
      "  'stop_words.' % sorted(inconsistent))\n"
     ]
    },
    {
     "data": {
      "text/plain": [
       "(32148, 60249)"
      ]
     },
     "execution_count": 138,
     "metadata": {},
     "output_type": "execute_result"
    }
   ],
   "source": [
    "vectorizer = CountVectorizer(stop_words='english')\n",
    "vectorizer = CountVectorizer(stop_words=frozenset([\"https\", \"rt\",'bitcoin', 'ethereum', 'blockchain', 'crypto' 'OKEx', 'Binance', 'i', 'btc', 'eth', 'co', '000',\n",
    "                                                   '100', 'de', 'la', 'en', 'el', 'una', 'httpstco',\n",
    " 'me',\n",
    " 'my',\n",
    " 'myself',\n",
    " 'we',\n",
    " 'our',\n",
    " 'ours',\n",
    " 'ourselves',\n",
    " 'you',\n",
    " \"you're\",\n",
    " \"you've\",\n",
    " \"you'll\",\n",
    " \"you'd\",\n",
    " 'your',\n",
    " 'yours',\n",
    " 'yourself',\n",
    " 'yourselves',\n",
    " 'he',\n",
    " 'him',\n",
    " 'his',\n",
    " 'himself',\n",
    " 'she',\n",
    " \"she's\",\n",
    " 'her',\n",
    " 'hers',\n",
    " 'herself',\n",
    " 'it',\n",
    " \"it's\",\n",
    " 'its',\n",
    " 'itself',\n",
    " 'they',\n",
    " 'them',\n",
    " 'their',\n",
    " 'theirs',\n",
    " 'themselves',\n",
    " 'what',\n",
    " 'which',\n",
    " 'who',\n",
    " 'whom',\n",
    " 'this',\n",
    " 'that',\n",
    " \"that'll\",\n",
    " 'these',\n",
    " 'those',\n",
    " 'am',\n",
    " 'is',\n",
    " 'are',\n",
    " 'was',\n",
    " 'were',\n",
    " 'be',\n",
    " 'been',\n",
    " 'being',\n",
    " 'have',\n",
    " 'has',\n",
    " 'had',\n",
    " 'having',\n",
    " 'do',\n",
    " 'does',\n",
    " 'did',\n",
    " 'doing',\n",
    " 'a',\n",
    " 'an',\n",
    " 'the',\n",
    " 'and',\n",
    " 'but',\n",
    " 'if',\n",
    " 'or',\n",
    " 'because',\n",
    " 'as',\n",
    " 'until',\n",
    " 'while',\n",
    " 'of',\n",
    " 'at',\n",
    " 'by',\n",
    " 'for',\n",
    " 'with',\n",
    " 'about',\n",
    " 'against',\n",
    " 'between',\n",
    " 'into',\n",
    " 'through',\n",
    " 'during',\n",
    " 'before',\n",
    " 'after',\n",
    " 'above',\n",
    " 'below',\n",
    " 'to',\n",
    " 'from',\n",
    " 'up',\n",
    " 'down',\n",
    " 'in',\n",
    " 'out',\n",
    " 'on',\n",
    " 'off',\n",
    " 'over',\n",
    " 'under',\n",
    " 'again',\n",
    " 'further',\n",
    " 'then',\n",
    " 'once',\n",
    " 'here',\n",
    " 'there',\n",
    " 'when',\n",
    " 'where',\n",
    " 'why',\n",
    " 'how',\n",
    " 'all',\n",
    " 'any',\n",
    " 'both',\n",
    " 'each',\n",
    " 'few',\n",
    " 'more',\n",
    " 'most',\n",
    " 'other',\n",
    " 'some',\n",
    " 'such',\n",
    " 'no',\n",
    " 'nor',\n",
    " 'not',\n",
    " 'only',\n",
    " 'own',\n",
    " 'same',\n",
    " 'so',\n",
    " 'than',\n",
    " 'too',\n",
    " 'very',\n",
    " 's',\n",
    " 't',\n",
    " 'can',\n",
    " 'will',\n",
    " 'just',\n",
    " 'don',\n",
    " \"don't\",\n",
    " 'should',\n",
    " \"should've\",\n",
    " 'now',\n",
    " 'd',\n",
    " 'll',\n",
    " 'm',\n",
    " 'o',\n",
    " 're',\n",
    " 've',\n",
    " 'y',\n",
    " 'ain',\n",
    " 'aren',\n",
    " \"aren't\",\n",
    " 'couldn',\n",
    " \"couldn't\",\n",
    " 'didn',\n",
    " \"didn't\",\n",
    " 'doesn',\n",
    " \"doesn't\",\n",
    " 'hadn',\n",
    " \"hadn't\",\n",
    " 'hasn',\n",
    " \"hasn't\",\n",
    " 'haven',\n",
    " \"haven't\",\n",
    " 'isn',\n",
    " \"isn't\",\n",
    " 'ma',\n",
    " 'mightn',\n",
    " \"mightn't\",\n",
    " 'mustn',\n",
    " \"mustn't\",\n",
    " 'needn',\n",
    " \"needn't\",\n",
    " 'shan',\n",
    " \"shan't\",\n",
    " 'shouldn',\n",
    " \"shouldn't\",\n",
    " 'wasn',\n",
    " \"wasn't\",\n",
    " 'weren',\n",
    " \"weren't\",\n",
    " 'won',\n",
    " \"won't\",\n",
    " 'wouldn',\n",
    " \"wouldn't\"]))\n",
    "doc_word = vectorizer.fit_transform(list_tweets)\n",
    "doc_word.shape"
   ]
  },
  {
   "cell_type": "code",
   "execution_count": 139,
   "metadata": {},
   "outputs": [
    {
     "data": {
      "text/plain": [
       "array([0.01169379, 0.00875107, 0.00703345])"
      ]
     },
     "execution_count": 139,
     "metadata": {},
     "output_type": "execute_result"
    }
   ],
   "source": [
    "lsa = TruncatedSVD(3)\n",
    "doc_topic = lsa.fit_transform(doc_word)\n",
    "lsa.explained_variance_ratio_"
   ]
  },
  {
   "cell_type": "code",
   "execution_count": 140,
   "metadata": {
    "scrolled": true
   },
   "outputs": [
    {
     "data": {
      "text/html": [
       "<div>\n",
       "<style scoped>\n",
       "    .dataframe tbody tr th:only-of-type {\n",
       "        vertical-align: middle;\n",
       "    }\n",
       "\n",
       "    .dataframe tbody tr th {\n",
       "        vertical-align: top;\n",
       "    }\n",
       "\n",
       "    .dataframe thead th {\n",
       "        text-align: right;\n",
       "    }\n",
       "</style>\n",
       "<table border=\"1\" class=\"dataframe\">\n",
       "  <thead>\n",
       "    <tr style=\"text-align: right;\">\n",
       "      <th></th>\n",
       "      <th>00</th>\n",
       "      <th>0000</th>\n",
       "      <th>00000</th>\n",
       "      <th>000000</th>\n",
       "      <th>00000000</th>\n",
       "      <th>00000008</th>\n",
       "      <th>00000009ƀ</th>\n",
       "      <th>00000010</th>\n",
       "      <th>00000014</th>\n",
       "      <th>00000014ƀ</th>\n",
       "      <th>...</th>\n",
       "      <th>𝐌𝐀𝐑𝐊𝐄𝐓</th>\n",
       "      <th>𝐑𝐀𝐓𝐄𝐒</th>\n",
       "      <th>𝐛𝐭𝐜</th>\n",
       "      <th>𝐜𝐡𝐚𝐭𝐭𝐞𝐫</th>\n",
       "      <th>𝐞𝐭𝐡</th>\n",
       "      <th>𝐫𝐞𝐚𝐜𝐭𝐢𝐨𝐧𝐬</th>\n",
       "      <th>𝐬𝐩𝐢𝐤𝐞</th>\n",
       "      <th>𝐭𝐰𝐞𝐞𝐭𝐬</th>\n",
       "      <th>𝗖𝗿𝘆𝗽𝘁𝗼𝗨𝘀𝗵𝗲𝗿</th>\n",
       "      <th>𝗺𝘆</th>\n",
       "    </tr>\n",
       "  </thead>\n",
       "  <tbody>\n",
       "    <tr>\n",
       "      <th>component_1</th>\n",
       "      <td>0.020</td>\n",
       "      <td>0.001</td>\n",
       "      <td>0.000</td>\n",
       "      <td>0.0</td>\n",
       "      <td>0.002</td>\n",
       "      <td>0.0</td>\n",
       "      <td>0.0</td>\n",
       "      <td>0.0</td>\n",
       "      <td>0.000</td>\n",
       "      <td>0.0</td>\n",
       "      <td>...</td>\n",
       "      <td>0.001</td>\n",
       "      <td>0.001</td>\n",
       "      <td>0.0</td>\n",
       "      <td>0.0</td>\n",
       "      <td>0.0</td>\n",
       "      <td>0.0</td>\n",
       "      <td>0.0</td>\n",
       "      <td>0.0</td>\n",
       "      <td>0.0</td>\n",
       "      <td>0.0</td>\n",
       "    </tr>\n",
       "    <tr>\n",
       "      <th>component_2</th>\n",
       "      <td>0.048</td>\n",
       "      <td>0.002</td>\n",
       "      <td>0.001</td>\n",
       "      <td>0.0</td>\n",
       "      <td>0.009</td>\n",
       "      <td>0.0</td>\n",
       "      <td>0.0</td>\n",
       "      <td>0.0</td>\n",
       "      <td>0.001</td>\n",
       "      <td>0.0</td>\n",
       "      <td>...</td>\n",
       "      <td>0.003</td>\n",
       "      <td>0.003</td>\n",
       "      <td>0.0</td>\n",
       "      <td>0.0</td>\n",
       "      <td>0.0</td>\n",
       "      <td>0.0</td>\n",
       "      <td>0.0</td>\n",
       "      <td>0.0</td>\n",
       "      <td>-0.0</td>\n",
       "      <td>-0.0</td>\n",
       "    </tr>\n",
       "    <tr>\n",
       "      <th>component_3</th>\n",
       "      <td>-0.001</td>\n",
       "      <td>0.003</td>\n",
       "      <td>0.002</td>\n",
       "      <td>0.0</td>\n",
       "      <td>-0.000</td>\n",
       "      <td>0.0</td>\n",
       "      <td>0.0</td>\n",
       "      <td>0.0</td>\n",
       "      <td>0.001</td>\n",
       "      <td>0.0</td>\n",
       "      <td>...</td>\n",
       "      <td>0.009</td>\n",
       "      <td>0.009</td>\n",
       "      <td>-0.0</td>\n",
       "      <td>-0.0</td>\n",
       "      <td>-0.0</td>\n",
       "      <td>-0.0</td>\n",
       "      <td>-0.0</td>\n",
       "      <td>-0.0</td>\n",
       "      <td>-0.0</td>\n",
       "      <td>-0.0</td>\n",
       "    </tr>\n",
       "  </tbody>\n",
       "</table>\n",
       "<p>3 rows × 60249 columns</p>\n",
       "</div>"
      ],
      "text/plain": [
       "                00   0000  00000  000000  00000000  00000008  00000009ƀ  \\\n",
       "component_1  0.020  0.001  0.000     0.0     0.002       0.0        0.0   \n",
       "component_2  0.048  0.002  0.001     0.0     0.009       0.0        0.0   \n",
       "component_3 -0.001  0.003  0.002     0.0    -0.000       0.0        0.0   \n",
       "\n",
       "             00000010  00000014  00000014ƀ  ...  𝐌𝐀𝐑𝐊𝐄𝐓  𝐑𝐀𝐓𝐄𝐒  𝐛𝐭𝐜  𝐜𝐡𝐚𝐭𝐭𝐞𝐫  \\\n",
       "component_1       0.0     0.000        0.0  ...   0.001  0.001  0.0      0.0   \n",
       "component_2       0.0     0.001        0.0  ...   0.003  0.003  0.0      0.0   \n",
       "component_3       0.0     0.001        0.0  ...   0.009  0.009 -0.0     -0.0   \n",
       "\n",
       "             𝐞𝐭𝐡  𝐫𝐞𝐚𝐜𝐭𝐢𝐨𝐧𝐬  𝐬𝐩𝐢𝐤𝐞  𝐭𝐰𝐞𝐞𝐭𝐬  𝗖𝗿𝘆𝗽𝘁𝗼𝗨𝘀𝗵𝗲𝗿   𝗺𝘆  \n",
       "component_1  0.0        0.0    0.0     0.0          0.0  0.0  \n",
       "component_2  0.0        0.0    0.0     0.0         -0.0 -0.0  \n",
       "component_3 -0.0       -0.0   -0.0    -0.0         -0.0 -0.0  \n",
       "\n",
       "[3 rows x 60249 columns]"
      ]
     },
     "execution_count": 140,
     "metadata": {},
     "output_type": "execute_result"
    }
   ],
   "source": [
    "topic_word = pd.DataFrame(lsa.components_.round(3),\n",
    "             index = [\"component_1\",\"component_2\", 'component_3'],\n",
    "             columns = vectorizer.get_feature_names())\n",
    "topic_word"
   ]
  },
  {
   "cell_type": "code",
   "execution_count": 141,
   "metadata": {},
   "outputs": [],
   "source": [
    "def display_topics(model, feature_names, no_top_words, topic_names=None):\n",
    "    for ix, topic in enumerate(model.components_):\n",
    "        if not topic_names or not topic_names[ix]:\n",
    "            print(\"\\nTopic \", ix)\n",
    "        else:\n",
    "            print(\"\\nTopic: '\",topic_names[ix],\"'\")\n",
    "        print(\", \".join([feature_names[i]\n",
    "                        for i in topic.argsort()[:-no_top_words - 1:-1]]))"
   ]
  },
  {
   "cell_type": "code",
   "execution_count": 142,
   "metadata": {
    "scrolled": false
   },
   "outputs": [
    {
     "name": "stdout",
     "output_type": "stream",
     "text": [
      "\n",
      "Topic  0\n",
      "crypto, price, cryptocurrency, binance, market, new, xrp, 2019, trading, news\n",
      "\n",
      "Topic  1\n",
      "price, binance, 2019, usd, xrp, may, 05, market, time, 20\n",
      "\n",
      "Topic  2\n",
      "binance, new, cz_binance, buy, free, get, trading, exchange, sell, link\n"
     ]
    }
   ],
   "source": [
    "display_topics(lsa, vectorizer.get_feature_names(), 10)"
   ]
  },
  {
   "cell_type": "code",
   "execution_count": 143,
   "metadata": {
    "scrolled": true
   },
   "outputs": [
    {
     "data": {
      "image/png": "[encoded data removed]",
      "text/plain": [
       "<Figure size 432x288 with 1 Axes>"
      ]
     },
     "metadata": {
      "needs_background": "light"
     },
     "output_type": "display_data"
    }
   ],
   "source": [
    "plt.plot(np.cumsum(lsa.explained_variance_ratio_))\n",
    "plt.xlabel('# components')\n",
    "plt.ylabel('cumulative explained variance');\n",
    "plt.title('Cumulative explained variance by LSA for cryptocurrency tweets');"
   ]
  },
  {
   "cell_type": "code",
   "execution_count": 144,
   "metadata": {},
   "outputs": [
    {
     "data": {
      "text/html": [
       "<div>\n",
       "<style scoped>\n",
       "    .dataframe tbody tr th:only-of-type {\n",
       "        vertical-align: middle;\n",
       "    }\n",
       "\n",
       "    .dataframe tbody tr th {\n",
       "        vertical-align: top;\n",
       "    }\n",
       "\n",
       "    .dataframe thead th {\n",
       "        text-align: right;\n",
       "    }\n",
       "</style>\n",
       "<table border=\"1\" class=\"dataframe\">\n",
       "  <thead>\n",
       "    <tr style=\"text-align: right;\">\n",
       "      <th></th>\n",
       "      <th>_id</th>\n",
       "      <th>lang</th>\n",
       "      <th>text</th>\n",
       "      <th>user</th>\n",
       "    </tr>\n",
       "  </thead>\n",
       "  <tbody>\n",
       "    <tr>\n",
       "      <th>5</th>\n",
       "      <td>5cddd6d6fc4f0d82a2c73e46</td>\n",
       "      <td>en</td>\n",
       "      <td>x123456789.eth was just migrated to the new re...</td>\n",
       "      <td>{'id': 859350218416029696, 'id_str': '85935021...</td>\n",
       "    </tr>\n",
       "    <tr>\n",
       "      <th>8</th>\n",
       "      <td>5cddd6d7fc4f0d82a2c73e49</td>\n",
       "      <td>en</td>\n",
       "      <td>@MYOFFICES @G0JlRA @binance @cz_binance Yeah w...</td>\n",
       "      <td>{'id': 1067420633615802369, 'id_str': '1067420...</td>\n",
       "    </tr>\n",
       "    <tr>\n",
       "      <th>11</th>\n",
       "      <td>5cddd6d7fc4f0d82a2c73e4c</td>\n",
       "      <td>en</td>\n",
       "      <td>@social77media How about that. I am not knowle...</td>\n",
       "      <td>{'id': 95009868, 'id_str': '95009868', 'name':...</td>\n",
       "    </tr>\n",
       "    <tr>\n",
       "      <th>12</th>\n",
       "      <td>5cddd6d7fc4f0d82a2c73e4d</td>\n",
       "      <td>en</td>\n",
       "      <td>y123456789.eth was just migrated to the new re...</td>\n",
       "      <td>{'id': 859350218416029696, 'id_str': '85935021...</td>\n",
       "    </tr>\n",
       "    <tr>\n",
       "      <th>13</th>\n",
       "      <td>5cddd6d7fc4f0d82a2c73e4e</td>\n",
       "      <td>en</td>\n",
       "      <td>Bitcoin [BTC] short worth $84 million closed o...</td>\n",
       "      <td>{'id': 1020638087242645504, 'id_str': '1020638...</td>\n",
       "    </tr>\n",
       "  </tbody>\n",
       "</table>\n",
       "</div>"
      ],
      "text/plain": [
       "                         _id lang  \\\n",
       "5   5cddd6d6fc4f0d82a2c73e46   en   \n",
       "8   5cddd6d7fc4f0d82a2c73e49   en   \n",
       "11  5cddd6d7fc4f0d82a2c73e4c   en   \n",
       "12  5cddd6d7fc4f0d82a2c73e4d   en   \n",
       "13  5cddd6d7fc4f0d82a2c73e4e   en   \n",
       "\n",
       "                                                 text  \\\n",
       "5   x123456789.eth was just migrated to the new re...   \n",
       "8   @MYOFFICES @G0JlRA @binance @cz_binance Yeah w...   \n",
       "11  @social77media How about that. I am not knowle...   \n",
       "12  y123456789.eth was just migrated to the new re...   \n",
       "13  Bitcoin [BTC] short worth $84 million closed o...   \n",
       "\n",
       "                                                 user  \n",
       "5   {'id': 859350218416029696, 'id_str': '85935021...  \n",
       "8   {'id': 1067420633615802369, 'id_str': '1067420...  \n",
       "11  {'id': 95009868, 'id_str': '95009868', 'name':...  \n",
       "12  {'id': 859350218416029696, 'id_str': '85935021...  \n",
       "13  {'id': 1020638087242645504, 'id_str': '1020638...  "
      ]
     },
     "execution_count": 144,
     "metadata": {},
     "output_type": "execute_result"
    }
   ],
   "source": [
    "cryptocurrency.head()"
   ]
  },
  {
   "cell_type": "code",
   "execution_count": 145,
   "metadata": {},
   "outputs": [
    {
     "name": "stdout",
     "output_type": "stream",
     "text": [
      "Requirement already satisfied: afinn in /anaconda3/envs/metis/lib/python3.7/site-packages (0.1)\n",
      "Note: you may need to restart the kernel to use updated packages.\n"
     ]
    }
   ],
   "source": [
    "pip install afinn"
   ]
  },
  {
   "cell_type": "code",
   "execution_count": 146,
   "metadata": {},
   "outputs": [],
   "source": [
    "# initialize afinn sentiment analyzer\n",
    "from afinn import Afinn\n",
    "af = Afinn()\n",
    "\n",
    "# compute sentiment scores (polarity) and labels\n",
    "sentiment_scores = [af.score(tweet) for tweet in cryptocurrency.text]\n",
    "sentiment_category = ['positive' if score > 0 \n",
    "                          else 'negative' if score < 0 \n",
    "                              else 'neutral' \n",
    "                                  for score in sentiment_scores]\n"
   ]
  },
  {
   "cell_type": "code",
   "execution_count": 147,
   "metadata": {},
   "outputs": [
    {
     "data": {
      "text/html": [
       "<div>\n",
       "<style scoped>\n",
       "    .dataframe tbody tr th:only-of-type {\n",
       "        vertical-align: middle;\n",
       "    }\n",
       "\n",
       "    .dataframe tbody tr th {\n",
       "        vertical-align: top;\n",
       "    }\n",
       "\n",
       "    .dataframe thead tr th {\n",
       "        text-align: left;\n",
       "    }\n",
       "\n",
       "    .dataframe thead tr:last-of-type th {\n",
       "        text-align: right;\n",
       "    }\n",
       "</style>\n",
       "<table border=\"1\" class=\"dataframe\">\n",
       "  <thead>\n",
       "    <tr>\n",
       "      <th></th>\n",
       "      <th colspan=\"8\" halign=\"left\">sentiment_score</th>\n",
       "    </tr>\n",
       "    <tr>\n",
       "      <th></th>\n",
       "      <th>count</th>\n",
       "      <th>mean</th>\n",
       "      <th>std</th>\n",
       "      <th>min</th>\n",
       "      <th>25%</th>\n",
       "      <th>50%</th>\n",
       "      <th>75%</th>\n",
       "      <th>max</th>\n",
       "    </tr>\n",
       "    <tr>\n",
       "      <th>lang</th>\n",
       "      <th></th>\n",
       "      <th></th>\n",
       "      <th></th>\n",
       "      <th></th>\n",
       "      <th></th>\n",
       "      <th></th>\n",
       "      <th></th>\n",
       "      <th></th>\n",
       "    </tr>\n",
       "  </thead>\n",
       "  <tbody>\n",
       "    <tr>\n",
       "      <th>en</th>\n",
       "      <td>32148.0</td>\n",
       "      <td>0.700386</td>\n",
       "      <td>2.107747</td>\n",
       "      <td>-14.0</td>\n",
       "      <td>0.0</td>\n",
       "      <td>0.0</td>\n",
       "      <td>2.0</td>\n",
       "      <td>17.0</td>\n",
       "    </tr>\n",
       "  </tbody>\n",
       "</table>\n",
       "</div>"
      ],
      "text/plain": [
       "     sentiment_score                                               \n",
       "               count      mean       std   min  25%  50%  75%   max\n",
       "lang                                                               \n",
       "en           32148.0  0.700386  2.107747 -14.0  0.0  0.0  2.0  17.0"
      ]
     },
     "execution_count": 147,
     "metadata": {},
     "output_type": "execute_result"
    }
   ],
   "source": [
    "# sentiment statistics per news category\n",
    "df = pd.DataFrame([list(cryptocurrency['lang']), sentiment_scores, sentiment_category]).T\n",
    "df.columns = ['lang', 'sentiment_score', 'sentiment_category']\n",
    "df['sentiment_score'] = df.sentiment_score.astype('float')\n",
    "df.groupby(by=['lang']).describe()"
   ]
  },
  {
   "cell_type": "code",
   "execution_count": 148,
   "metadata": {},
   "outputs": [],
   "source": [
    "import seaborn as sns"
   ]
  },
  {
   "cell_type": "code",
   "execution_count": 149,
   "metadata": {},
   "outputs": [
    {
     "data": {
      "image/png": "[encoded data removed]",
      "text/plain": [
       "<Figure size 1008x288 with 2 Axes>"
      ]
     },
     "metadata": {
      "needs_background": "light"
     },
     "output_type": "display_data"
    }
   ],
   "source": [
    "f, (ax1, ax2) = plt.subplots(1, 2, figsize=(14, 4))\n",
    "sp = sns.stripplot(x='lang', y=\"sentiment_score\", \n",
    "                   hue='lang', data=df, ax=ax1)\n",
    "bp = sns.boxplot(x='lang', y=\"sentiment_score\", \n",
    "                 hue='lang', data=df, palette=\"Set2\", ax=ax2)\n",
    "t = f.suptitle('Visualizing News Sentiment', fontsize=14)"
   ]
  },
  {
   "cell_type": "code",
   "execution_count": 150,
   "metadata": {},
   "outputs": [
    {
     "data": {
      "text/html": [
       "<div>\n",
       "<style scoped>\n",
       "    .dataframe tbody tr th:only-of-type {\n",
       "        vertical-align: middle;\n",
       "    }\n",
       "\n",
       "    .dataframe tbody tr th {\n",
       "        vertical-align: top;\n",
       "    }\n",
       "\n",
       "    .dataframe thead th {\n",
       "        text-align: right;\n",
       "    }\n",
       "</style>\n",
       "<table border=\"1\" class=\"dataframe\">\n",
       "  <thead>\n",
       "    <tr style=\"text-align: right;\">\n",
       "      <th></th>\n",
       "      <th>lang</th>\n",
       "      <th>sentiment_score</th>\n",
       "      <th>sentiment_category</th>\n",
       "    </tr>\n",
       "  </thead>\n",
       "  <tbody>\n",
       "    <tr>\n",
       "      <th>12554</th>\n",
       "      <td>en</td>\n",
       "      <td>-14.0</td>\n",
       "      <td>negative</td>\n",
       "    </tr>\n",
       "    <tr>\n",
       "      <th>26593</th>\n",
       "      <td>en</td>\n",
       "      <td>-12.0</td>\n",
       "      <td>negative</td>\n",
       "    </tr>\n",
       "    <tr>\n",
       "      <th>29362</th>\n",
       "      <td>en</td>\n",
       "      <td>-12.0</td>\n",
       "      <td>negative</td>\n",
       "    </tr>\n",
       "    <tr>\n",
       "      <th>543</th>\n",
       "      <td>en</td>\n",
       "      <td>-11.0</td>\n",
       "      <td>negative</td>\n",
       "    </tr>\n",
       "    <tr>\n",
       "      <th>25357</th>\n",
       "      <td>en</td>\n",
       "      <td>-11.0</td>\n",
       "      <td>negative</td>\n",
       "    </tr>\n",
       "  </tbody>\n",
       "</table>\n",
       "</div>"
      ],
      "text/plain": [
       "      lang  sentiment_score sentiment_category\n",
       "12554   en            -14.0           negative\n",
       "26593   en            -12.0           negative\n",
       "29362   en            -12.0           negative\n",
       "543     en            -11.0           negative\n",
       "25357   en            -11.0           negative"
      ]
     },
     "execution_count": 150,
     "metadata": {},
     "output_type": "execute_result"
    }
   ],
   "source": [
    "df.sort_values(\"sentiment_score\", ascending=True).head()"
   ]
  },
  {
   "cell_type": "code",
   "execution_count": 151,
   "metadata": {},
   "outputs": [
    {
     "data": {
      "text/html": [
       "<div>\n",
       "<style scoped>\n",
       "    .dataframe tbody tr th:only-of-type {\n",
       "        vertical-align: middle;\n",
       "    }\n",
       "\n",
       "    .dataframe tbody tr th {\n",
       "        vertical-align: top;\n",
       "    }\n",
       "\n",
       "    .dataframe thead th {\n",
       "        text-align: right;\n",
       "    }\n",
       "</style>\n",
       "<table border=\"1\" class=\"dataframe\">\n",
       "  <thead>\n",
       "    <tr style=\"text-align: right;\">\n",
       "      <th></th>\n",
       "      <th>_id</th>\n",
       "      <th>lang</th>\n",
       "      <th>text</th>\n",
       "      <th>user</th>\n",
       "    </tr>\n",
       "  </thead>\n",
       "  <tbody>\n",
       "    <tr>\n",
       "      <th>5</th>\n",
       "      <td>5cddd6d6fc4f0d82a2c73e46</td>\n",
       "      <td>en</td>\n",
       "      <td>x123456789.eth was just migrated to the new re...</td>\n",
       "      <td>{'id': 859350218416029696, 'id_str': '85935021...</td>\n",
       "    </tr>\n",
       "    <tr>\n",
       "      <th>8</th>\n",
       "      <td>5cddd6d7fc4f0d82a2c73e49</td>\n",
       "      <td>en</td>\n",
       "      <td>@MYOFFICES @G0JlRA @binance @cz_binance Yeah w...</td>\n",
       "      <td>{'id': 1067420633615802369, 'id_str': '1067420...</td>\n",
       "    </tr>\n",
       "    <tr>\n",
       "      <th>11</th>\n",
       "      <td>5cddd6d7fc4f0d82a2c73e4c</td>\n",
       "      <td>en</td>\n",
       "      <td>@social77media How about that. I am not knowle...</td>\n",
       "      <td>{'id': 95009868, 'id_str': '95009868', 'name':...</td>\n",
       "    </tr>\n",
       "    <tr>\n",
       "      <th>12</th>\n",
       "      <td>5cddd6d7fc4f0d82a2c73e4d</td>\n",
       "      <td>en</td>\n",
       "      <td>y123456789.eth was just migrated to the new re...</td>\n",
       "      <td>{'id': 859350218416029696, 'id_str': '85935021...</td>\n",
       "    </tr>\n",
       "    <tr>\n",
       "      <th>13</th>\n",
       "      <td>5cddd6d7fc4f0d82a2c73e4e</td>\n",
       "      <td>en</td>\n",
       "      <td>Bitcoin [BTC] short worth $84 million closed o...</td>\n",
       "      <td>{'id': 1020638087242645504, 'id_str': '1020638...</td>\n",
       "    </tr>\n",
       "  </tbody>\n",
       "</table>\n",
       "</div>"
      ],
      "text/plain": [
       "                         _id lang  \\\n",
       "5   5cddd6d6fc4f0d82a2c73e46   en   \n",
       "8   5cddd6d7fc4f0d82a2c73e49   en   \n",
       "11  5cddd6d7fc4f0d82a2c73e4c   en   \n",
       "12  5cddd6d7fc4f0d82a2c73e4d   en   \n",
       "13  5cddd6d7fc4f0d82a2c73e4e   en   \n",
       "\n",
       "                                                 text  \\\n",
       "5   x123456789.eth was just migrated to the new re...   \n",
       "8   @MYOFFICES @G0JlRA @binance @cz_binance Yeah w...   \n",
       "11  @social77media How about that. I am not knowle...   \n",
       "12  y123456789.eth was just migrated to the new re...   \n",
       "13  Bitcoin [BTC] short worth $84 million closed o...   \n",
       "\n",
       "                                                 user  \n",
       "5   {'id': 859350218416029696, 'id_str': '85935021...  \n",
       "8   {'id': 1067420633615802369, 'id_str': '1067420...  \n",
       "11  {'id': 95009868, 'id_str': '95009868', 'name':...  \n",
       "12  {'id': 859350218416029696, 'id_str': '85935021...  \n",
       "13  {'id': 1020638087242645504, 'id_str': '1020638...  "
      ]
     },
     "execution_count": 151,
     "metadata": {},
     "output_type": "execute_result"
    }
   ],
   "source": [
    "cryptocurrency.head()"
   ]
  },
  {
   "cell_type": "code",
   "execution_count": 152,
   "metadata": {},
   "outputs": [
    {
     "name": "stdout",
     "output_type": "stream",
     "text": [
      "Most Negative Tech News Article: https://t.co/i5bAqwAPuS\n",
      "There’s always FUD! FUD everywhere! Craig Wright is a FUD. But 60 minutes wasn’t so bad.… https://t.co/9RTH4J9NIJ\n",
      "\n",
      "Most Positive Tech News Article: Wow..its amazing.. Miracle tele is true,and nice https://t.co/lWTJYQUykY #Miracletele, #Cryptocurrency, #teletoken, #blockchain\n"
     ]
    }
   ],
   "source": [
    "pos_idx = df[(df.sentiment_score == 17)].index[0]\n",
    "neg_idx = df[(df.sentiment_score == -12)].index[0]\n",
    "\n",
    "print('Most Negative Tech News Article:', cryptocurrency.iloc[neg_idx][['text']][0])\n",
    "print()\n",
    "print('Most Positive Tech News Article:', cryptocurrency.iloc[pos_idx][['text']][0])"
   ]
  },
  {
   "cell_type": "code",
   "execution_count": 153,
   "metadata": {},
   "outputs": [
    {
     "name": "stderr",
     "output_type": "stream",
     "text": [
      "/anaconda3/envs/metis/lib/python3.7/site-packages/seaborn/categorical.py:3666: UserWarning: The `factorplot` function has been renamed to `catplot`. The original name will be removed in a future release. Please update your code. Note that the default `kind` in `factorplot` (`'point'`) has changed `'strip'` in `catplot`.\n",
      "  warnings.warn(msg)\n"
     ]
    },
    {
     "data": {
      "image/png": "[encoded data removed]",
      "text/plain": [
       "<Figure size 467.5x360 with 1 Axes>"
      ]
     },
     "metadata": {
      "needs_background": "light"
     },
     "output_type": "display_data"
    }
   ],
   "source": [
    "fc = sns.factorplot(x=\"lang\", hue=\"sentiment_category\", \n",
    "                    data=df, kind=\"count\", \n",
    "                    palette={\"negative\": \"#FE2020\", \n",
    "                             \"positive\": \"#BADD07\", \n",
    "                             \"neutral\": \"#68BFF5\"})"
   ]
  },
  {
   "cell_type": "code",
   "execution_count": 154,
   "metadata": {},
   "outputs": [
    {
     "data": {
      "text/plain": [
       "32148"
      ]
     },
     "execution_count": 154,
     "metadata": {},
     "output_type": "execute_result"
    }
   ],
   "source": [
    "len(df)"
   ]
  },
  {
   "cell_type": "code",
   "execution_count": 155,
   "metadata": {
    "scrolled": true
   },
   "outputs": [
    {
     "data": {
      "text/plain": [
       "16430"
      ]
     },
     "execution_count": 155,
     "metadata": {},
     "output_type": "execute_result"
    }
   ],
   "source": [
    "df = df.drop(df.index[df.sentiment_category == 'neutral'])\n",
    "len(df)"
   ]
  },
  {
   "cell_type": "code",
   "execution_count": 161,
   "metadata": {
    "scrolled": true
   },
   "outputs": [
    {
     "name": "stderr",
     "output_type": "stream",
     "text": [
      "/anaconda3/envs/metis/lib/python3.7/site-packages/seaborn/categorical.py:3666: UserWarning: The `factorplot` function has been renamed to `catplot`. The original name will be removed in a future release. Please update your code. Note that the default `kind` in `factorplot` (`'point'`) has changed `'strip'` in `catplot`.\n",
      "  warnings.warn(msg)\n"
     ]
    },
    {
     "data": {
      "text/plain": [
       "<seaborn.axisgrid.FacetGrid at 0x1737e8080>"
      ]
     },
     "execution_count": 161,
     "metadata": {},
     "output_type": "execute_result"
    },
    {
     "data": {
      "image/png": "[encoded data removed]",
      "text/plain": [
       "<Figure size 467.5x360 with 1 Axes>"
      ]
     },
     "metadata": {
      "needs_background": "light"
     },
     "output_type": "display_data"
    }
   ],
   "source": [
    "fc = sns.factorplot(x=\"lang\", hue=\"sentiment_category\", \n",
    "                    data=df, kind=\"count\", \n",
    "                    palette={\"positive\": \"#BADD07\", \n",
    "                             \"negative\": \"#FE2020\"})\n",
    "\n",
    "fc.set_titles(\"Title\")"
   ]
  }
 ],
 "metadata": {
  "kernelspec": {
   "display_name": "Python [conda env:metis] *",
   "language": "python",
   "name": "conda-env-metis-py"
  },
  "language_info": {
   "codemirror_mode": {
    "name": "ipython",
    "version": 3
   },
   "file_extension": ".py",
   "mimetype": "text/x-python",
   "name": "python",
   "nbconvert_exporter": "python",
   "pygments_lexer": "ipython3",
   "version": "3.7.3"
  }
 },
 "nbformat": 4,
 "nbformat_minor": 2
}
 
